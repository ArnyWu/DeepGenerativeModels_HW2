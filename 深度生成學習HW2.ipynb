{
  "nbformat": 4,
  "nbformat_minor": 0,
  "metadata": {
    "colab": {
      "provenance": [],
      "gpuType": "T4",
      "authorship_tag": "ABX9TyP3vYJyrqrKtVocC2yIIyG8",
      "include_colab_link": true
    },
    "kernelspec": {
      "name": "python3",
      "display_name": "Python 3"
    },
    "language_info": {
      "name": "python"
    },
    "accelerator": "GPU"
  },
  "cells": [
    {
      "cell_type": "markdown",
      "metadata": {
        "id": "view-in-github",
        "colab_type": "text"
      },
      "source": [
        "<a href=\"https://colab.research.google.com/github/ArnyWu/DeepGenerativeModels_HW2/blob/main/%E6%B7%B1%E5%BA%A6%E7%94%9F%E6%88%90%E5%AD%B8%E7%BF%92HW2.ipynb\" target=\"_parent\"><img src=\"https://colab.research.google.com/assets/colab-badge.svg\" alt=\"Open In Colab\"/></a>"
      ]
    },
    {
      "cell_type": "code",
      "source": [
        "!pip install torchmetrics\n",
        "!pip install torchmetrics[image]"
      ],
      "metadata": {
        "colab": {
          "base_uri": "https://localhost:8080/"
        },
        "id": "44giaaEiGyU5",
        "outputId": "390580cd-d2ae-42af-ffc9-c3ebdbaefd83"
      },
      "execution_count": 1,
      "outputs": [
        {
          "output_type": "stream",
          "name": "stdout",
          "text": [
            "Collecting torchmetrics\n",
            "  Downloading torchmetrics-1.8.2-py3-none-any.whl.metadata (22 kB)\n",
            "Requirement already satisfied: numpy>1.20.0 in /usr/local/lib/python3.12/dist-packages (from torchmetrics) (2.0.2)\n",
            "Requirement already satisfied: packaging>17.1 in /usr/local/lib/python3.12/dist-packages (from torchmetrics) (25.0)\n",
            "Requirement already satisfied: torch>=2.0.0 in /usr/local/lib/python3.12/dist-packages (from torchmetrics) (2.8.0+cu126)\n",
            "Collecting lightning-utilities>=0.8.0 (from torchmetrics)\n",
            "  Downloading lightning_utilities-0.15.2-py3-none-any.whl.metadata (5.7 kB)\n",
            "Requirement already satisfied: setuptools in /usr/local/lib/python3.12/dist-packages (from lightning-utilities>=0.8.0->torchmetrics) (75.2.0)\n",
            "Requirement already satisfied: typing_extensions in /usr/local/lib/python3.12/dist-packages (from lightning-utilities>=0.8.0->torchmetrics) (4.15.0)\n",
            "Requirement already satisfied: filelock in /usr/local/lib/python3.12/dist-packages (from torch>=2.0.0->torchmetrics) (3.19.1)\n",
            "Requirement already satisfied: sympy>=1.13.3 in /usr/local/lib/python3.12/dist-packages (from torch>=2.0.0->torchmetrics) (1.13.3)\n",
            "Requirement already satisfied: networkx in /usr/local/lib/python3.12/dist-packages (from torch>=2.0.0->torchmetrics) (3.5)\n",
            "Requirement already satisfied: jinja2 in /usr/local/lib/python3.12/dist-packages (from torch>=2.0.0->torchmetrics) (3.1.6)\n",
            "Requirement already satisfied: fsspec in /usr/local/lib/python3.12/dist-packages (from torch>=2.0.0->torchmetrics) (2025.3.0)\n",
            "Requirement already satisfied: nvidia-cuda-nvrtc-cu12==12.6.77 in /usr/local/lib/python3.12/dist-packages (from torch>=2.0.0->torchmetrics) (12.6.77)\n",
            "Requirement already satisfied: nvidia-cuda-runtime-cu12==12.6.77 in /usr/local/lib/python3.12/dist-packages (from torch>=2.0.0->torchmetrics) (12.6.77)\n",
            "Requirement already satisfied: nvidia-cuda-cupti-cu12==12.6.80 in /usr/local/lib/python3.12/dist-packages (from torch>=2.0.0->torchmetrics) (12.6.80)\n",
            "Requirement already satisfied: nvidia-cudnn-cu12==9.10.2.21 in /usr/local/lib/python3.12/dist-packages (from torch>=2.0.0->torchmetrics) (9.10.2.21)\n",
            "Requirement already satisfied: nvidia-cublas-cu12==12.6.4.1 in /usr/local/lib/python3.12/dist-packages (from torch>=2.0.0->torchmetrics) (12.6.4.1)\n",
            "Requirement already satisfied: nvidia-cufft-cu12==11.3.0.4 in /usr/local/lib/python3.12/dist-packages (from torch>=2.0.0->torchmetrics) (11.3.0.4)\n",
            "Requirement already satisfied: nvidia-curand-cu12==10.3.7.77 in /usr/local/lib/python3.12/dist-packages (from torch>=2.0.0->torchmetrics) (10.3.7.77)\n",
            "Requirement already satisfied: nvidia-cusolver-cu12==11.7.1.2 in /usr/local/lib/python3.12/dist-packages (from torch>=2.0.0->torchmetrics) (11.7.1.2)\n",
            "Requirement already satisfied: nvidia-cusparse-cu12==12.5.4.2 in /usr/local/lib/python3.12/dist-packages (from torch>=2.0.0->torchmetrics) (12.5.4.2)\n",
            "Requirement already satisfied: nvidia-cusparselt-cu12==0.7.1 in /usr/local/lib/python3.12/dist-packages (from torch>=2.0.0->torchmetrics) (0.7.1)\n",
            "Requirement already satisfied: nvidia-nccl-cu12==2.27.3 in /usr/local/lib/python3.12/dist-packages (from torch>=2.0.0->torchmetrics) (2.27.3)\n",
            "Requirement already satisfied: nvidia-nvtx-cu12==12.6.77 in /usr/local/lib/python3.12/dist-packages (from torch>=2.0.0->torchmetrics) (12.6.77)\n",
            "Requirement already satisfied: nvidia-nvjitlink-cu12==12.6.85 in /usr/local/lib/python3.12/dist-packages (from torch>=2.0.0->torchmetrics) (12.6.85)\n",
            "Requirement already satisfied: nvidia-cufile-cu12==1.11.1.6 in /usr/local/lib/python3.12/dist-packages (from torch>=2.0.0->torchmetrics) (1.11.1.6)\n",
            "Requirement already satisfied: triton==3.4.0 in /usr/local/lib/python3.12/dist-packages (from torch>=2.0.0->torchmetrics) (3.4.0)\n",
            "Requirement already satisfied: mpmath<1.4,>=1.1.0 in /usr/local/lib/python3.12/dist-packages (from sympy>=1.13.3->torch>=2.0.0->torchmetrics) (1.3.0)\n",
            "Requirement already satisfied: MarkupSafe>=2.0 in /usr/local/lib/python3.12/dist-packages (from jinja2->torch>=2.0.0->torchmetrics) (3.0.2)\n",
            "Downloading torchmetrics-1.8.2-py3-none-any.whl (983 kB)\n",
            "\u001b[2K   \u001b[90m━━━━━━━━━━━━━━━━━━━━━━━━━━━━━━━━━━━━━━━━\u001b[0m \u001b[32m983.2/983.2 kB\u001b[0m \u001b[31m29.9 MB/s\u001b[0m eta \u001b[36m0:00:00\u001b[0m\n",
            "\u001b[?25hDownloading lightning_utilities-0.15.2-py3-none-any.whl (29 kB)\n",
            "Installing collected packages: lightning-utilities, torchmetrics\n",
            "Successfully installed lightning-utilities-0.15.2 torchmetrics-1.8.2\n",
            "Requirement already satisfied: torchmetrics[image] in /usr/local/lib/python3.12/dist-packages (1.8.2)\n",
            "Requirement already satisfied: numpy>1.20.0 in /usr/local/lib/python3.12/dist-packages (from torchmetrics[image]) (2.0.2)\n",
            "Requirement already satisfied: packaging>17.1 in /usr/local/lib/python3.12/dist-packages (from torchmetrics[image]) (25.0)\n",
            "Requirement already satisfied: torch>=2.0.0 in /usr/local/lib/python3.12/dist-packages (from torchmetrics[image]) (2.8.0+cu126)\n",
            "Requirement already satisfied: lightning-utilities>=0.8.0 in /usr/local/lib/python3.12/dist-packages (from torchmetrics[image]) (0.15.2)\n",
            "Collecting torch-fidelity<=0.4.0 (from torchmetrics[image])\n",
            "  Downloading torch_fidelity-0.3.0-py3-none-any.whl.metadata (2.0 kB)\n",
            "Requirement already satisfied: torchvision>=0.15.1 in /usr/local/lib/python3.12/dist-packages (from torchmetrics[image]) (0.23.0+cu126)\n",
            "Requirement already satisfied: scipy>1.0.0 in /usr/local/lib/python3.12/dist-packages (from torchmetrics[image]) (1.16.2)\n",
            "Requirement already satisfied: setuptools in /usr/local/lib/python3.12/dist-packages (from lightning-utilities>=0.8.0->torchmetrics[image]) (75.2.0)\n",
            "Requirement already satisfied: typing_extensions in /usr/local/lib/python3.12/dist-packages (from lightning-utilities>=0.8.0->torchmetrics[image]) (4.15.0)\n",
            "Requirement already satisfied: filelock in /usr/local/lib/python3.12/dist-packages (from torch>=2.0.0->torchmetrics[image]) (3.19.1)\n",
            "Requirement already satisfied: sympy>=1.13.3 in /usr/local/lib/python3.12/dist-packages (from torch>=2.0.0->torchmetrics[image]) (1.13.3)\n",
            "Requirement already satisfied: networkx in /usr/local/lib/python3.12/dist-packages (from torch>=2.0.0->torchmetrics[image]) (3.5)\n",
            "Requirement already satisfied: jinja2 in /usr/local/lib/python3.12/dist-packages (from torch>=2.0.0->torchmetrics[image]) (3.1.6)\n",
            "Requirement already satisfied: fsspec in /usr/local/lib/python3.12/dist-packages (from torch>=2.0.0->torchmetrics[image]) (2025.3.0)\n",
            "Requirement already satisfied: nvidia-cuda-nvrtc-cu12==12.6.77 in /usr/local/lib/python3.12/dist-packages (from torch>=2.0.0->torchmetrics[image]) (12.6.77)\n",
            "Requirement already satisfied: nvidia-cuda-runtime-cu12==12.6.77 in /usr/local/lib/python3.12/dist-packages (from torch>=2.0.0->torchmetrics[image]) (12.6.77)\n",
            "Requirement already satisfied: nvidia-cuda-cupti-cu12==12.6.80 in /usr/local/lib/python3.12/dist-packages (from torch>=2.0.0->torchmetrics[image]) (12.6.80)\n",
            "Requirement already satisfied: nvidia-cudnn-cu12==9.10.2.21 in /usr/local/lib/python3.12/dist-packages (from torch>=2.0.0->torchmetrics[image]) (9.10.2.21)\n",
            "Requirement already satisfied: nvidia-cublas-cu12==12.6.4.1 in /usr/local/lib/python3.12/dist-packages (from torch>=2.0.0->torchmetrics[image]) (12.6.4.1)\n",
            "Requirement already satisfied: nvidia-cufft-cu12==11.3.0.4 in /usr/local/lib/python3.12/dist-packages (from torch>=2.0.0->torchmetrics[image]) (11.3.0.4)\n",
            "Requirement already satisfied: nvidia-curand-cu12==10.3.7.77 in /usr/local/lib/python3.12/dist-packages (from torch>=2.0.0->torchmetrics[image]) (10.3.7.77)\n",
            "Requirement already satisfied: nvidia-cusolver-cu12==11.7.1.2 in /usr/local/lib/python3.12/dist-packages (from torch>=2.0.0->torchmetrics[image]) (11.7.1.2)\n",
            "Requirement already satisfied: nvidia-cusparse-cu12==12.5.4.2 in /usr/local/lib/python3.12/dist-packages (from torch>=2.0.0->torchmetrics[image]) (12.5.4.2)\n",
            "Requirement already satisfied: nvidia-cusparselt-cu12==0.7.1 in /usr/local/lib/python3.12/dist-packages (from torch>=2.0.0->torchmetrics[image]) (0.7.1)\n",
            "Requirement already satisfied: nvidia-nccl-cu12==2.27.3 in /usr/local/lib/python3.12/dist-packages (from torch>=2.0.0->torchmetrics[image]) (2.27.3)\n",
            "Requirement already satisfied: nvidia-nvtx-cu12==12.6.77 in /usr/local/lib/python3.12/dist-packages (from torch>=2.0.0->torchmetrics[image]) (12.6.77)\n",
            "Requirement already satisfied: nvidia-nvjitlink-cu12==12.6.85 in /usr/local/lib/python3.12/dist-packages (from torch>=2.0.0->torchmetrics[image]) (12.6.85)\n",
            "Requirement already satisfied: nvidia-cufile-cu12==1.11.1.6 in /usr/local/lib/python3.12/dist-packages (from torch>=2.0.0->torchmetrics[image]) (1.11.1.6)\n",
            "Requirement already satisfied: triton==3.4.0 in /usr/local/lib/python3.12/dist-packages (from torch>=2.0.0->torchmetrics[image]) (3.4.0)\n",
            "Requirement already satisfied: Pillow in /usr/local/lib/python3.12/dist-packages (from torch-fidelity<=0.4.0->torchmetrics[image]) (11.3.0)\n",
            "Requirement already satisfied: tqdm in /usr/local/lib/python3.12/dist-packages (from torch-fidelity<=0.4.0->torchmetrics[image]) (4.67.1)\n",
            "Requirement already satisfied: mpmath<1.4,>=1.1.0 in /usr/local/lib/python3.12/dist-packages (from sympy>=1.13.3->torch>=2.0.0->torchmetrics[image]) (1.3.0)\n",
            "Requirement already satisfied: MarkupSafe>=2.0 in /usr/local/lib/python3.12/dist-packages (from jinja2->torch>=2.0.0->torchmetrics[image]) (3.0.2)\n",
            "Downloading torch_fidelity-0.3.0-py3-none-any.whl (37 kB)\n",
            "Installing collected packages: torch-fidelity\n",
            "Successfully installed torch-fidelity-0.3.0\n"
          ]
        }
      ]
    },
    {
      "cell_type": "code",
      "execution_count": 2,
      "metadata": {
        "colab": {
          "base_uri": "https://localhost:8080/"
        },
        "id": "FnRzfNCV5qkX",
        "outputId": "6f13a0e2-df41-4212-b6df-5d5397198657"
      },
      "outputs": [
        {
          "output_type": "stream",
          "name": "stderr",
          "text": [
            "100%|██████████| 9.91M/9.91M [00:00<00:00, 17.8MB/s]\n",
            "100%|██████████| 28.9k/28.9k [00:00<00:00, 480kB/s]\n",
            "100%|██████████| 1.65M/1.65M [00:00<00:00, 4.46MB/s]\n",
            "100%|██████████| 4.54k/4.54k [00:00<00:00, 10.4MB/s]\n",
            "Epoch 1/150: 100%|██████████| 375/375 [00:06<00:00, 59.36it/s]\n"
          ]
        },
        {
          "output_type": "stream",
          "name": "stdout",
          "text": [
            "Epoch 1, Train Loss: 173.3316, Val Loss: 135.1546, Time: 7.84 sec\n",
            "Saved Best Model\n"
          ]
        },
        {
          "output_type": "stream",
          "name": "stderr",
          "text": [
            "Epoch 2/150: 100%|██████████| 375/375 [00:05<00:00, 64.88it/s]\n"
          ]
        },
        {
          "output_type": "stream",
          "name": "stdout",
          "text": [
            "Epoch 2, Train Loss: 126.4194, Val Loss: 120.4201, Time: 6.95 sec\n",
            "Saved Best Model\n"
          ]
        },
        {
          "output_type": "stream",
          "name": "stderr",
          "text": [
            "Epoch 3/150: 100%|██████████| 375/375 [00:06<00:00, 60.76it/s]\n"
          ]
        },
        {
          "output_type": "stream",
          "name": "stdout",
          "text": [
            "Epoch 3, Train Loss: 117.4791, Val Loss: 115.1807, Time: 7.35 sec\n",
            "Saved Best Model\n"
          ]
        },
        {
          "output_type": "stream",
          "name": "stderr",
          "text": [
            "Epoch 4/150: 100%|██████████| 375/375 [00:05<00:00, 67.74it/s]\n"
          ]
        },
        {
          "output_type": "stream",
          "name": "stdout",
          "text": [
            "Epoch 4, Train Loss: 113.8059, Val Loss: 112.6775, Time: 6.72 sec\n",
            "Saved Best Model\n"
          ]
        },
        {
          "output_type": "stream",
          "name": "stderr",
          "text": [
            "Epoch 5/150: 100%|██████████| 375/375 [00:06<00:00, 60.79it/s]\n"
          ]
        },
        {
          "output_type": "stream",
          "name": "stdout",
          "text": [
            "Epoch 5, Train Loss: 111.5844, Val Loss: 110.8384, Time: 7.36 sec\n",
            "Saved Best Model\n"
          ]
        },
        {
          "output_type": "stream",
          "name": "stderr",
          "text": [
            "Epoch 6/150: 100%|██████████| 375/375 [00:05<00:00, 67.92it/s]\n"
          ]
        },
        {
          "output_type": "stream",
          "name": "stdout",
          "text": [
            "Epoch 6, Train Loss: 110.1876, Val Loss: 109.9411, Time: 6.84 sec\n",
            "Saved Best Model\n"
          ]
        },
        {
          "output_type": "stream",
          "name": "stderr",
          "text": [
            "Epoch 7/150: 100%|██████████| 375/375 [00:06<00:00, 61.97it/s]\n"
          ]
        },
        {
          "output_type": "stream",
          "name": "stdout",
          "text": [
            "Epoch 7, Train Loss: 109.1366, Val Loss: 109.1149, Time: 7.24 sec\n",
            "Saved Best Model\n"
          ]
        },
        {
          "output_type": "stream",
          "name": "stderr",
          "text": [
            "Epoch 8/150: 100%|██████████| 375/375 [00:06<00:00, 61.97it/s]\n"
          ]
        },
        {
          "output_type": "stream",
          "name": "stdout",
          "text": [
            "Epoch 8, Train Loss: 108.2785, Val Loss: 108.3165, Time: 7.39 sec\n",
            "Saved Best Model\n"
          ]
        },
        {
          "output_type": "stream",
          "name": "stderr",
          "text": [
            "Epoch 9/150: 100%|██████████| 375/375 [00:06<00:00, 58.51it/s]\n"
          ]
        },
        {
          "output_type": "stream",
          "name": "stdout",
          "text": [
            "Epoch 9, Train Loss: 107.7133, Val Loss: 107.7784, Time: 7.60 sec\n",
            "Saved Best Model\n"
          ]
        },
        {
          "output_type": "stream",
          "name": "stderr",
          "text": [
            "Epoch 10/150: 100%|██████████| 375/375 [00:06<00:00, 61.56it/s]\n"
          ]
        },
        {
          "output_type": "stream",
          "name": "stdout",
          "text": [
            "Epoch 10, Train Loss: 107.1420, Val Loss: 107.4329, Time: 7.29 sec\n",
            "Saved Best Model\n"
          ]
        },
        {
          "output_type": "stream",
          "name": "stderr",
          "text": [
            "Epoch 11/150: 100%|██████████| 375/375 [00:05<00:00, 67.65it/s]\n"
          ]
        },
        {
          "output_type": "stream",
          "name": "stdout",
          "text": [
            "Epoch 11, Train Loss: 106.7220, Val Loss: 106.9484, Time: 6.95 sec\n",
            "Saved Best Model\n"
          ]
        },
        {
          "output_type": "stream",
          "name": "stderr",
          "text": [
            "Epoch 12/150: 100%|██████████| 375/375 [00:05<00:00, 62.52it/s]\n"
          ]
        },
        {
          "output_type": "stream",
          "name": "stdout",
          "text": [
            "Epoch 12, Train Loss: 106.3486, Val Loss: 106.6748, Time: 7.17 sec\n",
            "Saved Best Model\n"
          ]
        },
        {
          "output_type": "stream",
          "name": "stderr",
          "text": [
            "Epoch 13/150: 100%|██████████| 375/375 [00:06<00:00, 60.50it/s]\n"
          ]
        },
        {
          "output_type": "stream",
          "name": "stdout",
          "text": [
            "Epoch 13, Train Loss: 106.0031, Val Loss: 106.5907, Time: 7.37 sec\n",
            "Saved Best Model\n"
          ]
        },
        {
          "output_type": "stream",
          "name": "stderr",
          "text": [
            "Epoch 14/150: 100%|██████████| 375/375 [00:05<00:00, 68.16it/s]\n"
          ]
        },
        {
          "output_type": "stream",
          "name": "stdout",
          "text": [
            "Epoch 14, Train Loss: 105.7548, Val Loss: 106.1742, Time: 6.67 sec\n",
            "Saved Best Model\n"
          ]
        },
        {
          "output_type": "stream",
          "name": "stderr",
          "text": [
            "Epoch 15/150: 100%|██████████| 375/375 [00:06<00:00, 60.65it/s]\n"
          ]
        },
        {
          "output_type": "stream",
          "name": "stdout",
          "text": [
            "Epoch 15, Train Loss: 105.4767, Val Loss: 106.0330, Time: 7.36 sec\n",
            "Saved Best Model\n"
          ]
        },
        {
          "output_type": "stream",
          "name": "stderr",
          "text": [
            "Epoch 16/150: 100%|██████████| 375/375 [00:05<00:00, 67.80it/s]\n"
          ]
        },
        {
          "output_type": "stream",
          "name": "stdout",
          "text": [
            "Epoch 16, Train Loss: 105.2755, Val Loss: 105.9298, Time: 6.70 sec\n",
            "Saved Best Model\n"
          ]
        },
        {
          "output_type": "stream",
          "name": "stderr",
          "text": [
            "Epoch 17/150: 100%|██████████| 375/375 [00:06<00:00, 61.14it/s]\n"
          ]
        },
        {
          "output_type": "stream",
          "name": "stdout",
          "text": [
            "Epoch 17, Train Loss: 105.0795, Val Loss: 105.6814, Time: 7.30 sec\n",
            "Saved Best Model\n"
          ]
        },
        {
          "output_type": "stream",
          "name": "stderr",
          "text": [
            "Epoch 18/150: 100%|██████████| 375/375 [00:05<00:00, 63.98it/s]\n"
          ]
        },
        {
          "output_type": "stream",
          "name": "stdout",
          "text": [
            "Epoch 18, Train Loss: 104.8470, Val Loss: 105.5392, Time: 7.40 sec\n",
            "Saved Best Model\n"
          ]
        },
        {
          "output_type": "stream",
          "name": "stderr",
          "text": [
            "Epoch 19/150: 100%|██████████| 375/375 [00:05<00:00, 67.07it/s]\n"
          ]
        },
        {
          "output_type": "stream",
          "name": "stdout",
          "text": [
            "Epoch 19, Train Loss: 104.6968, Val Loss: 105.1514, Time: 6.76 sec\n",
            "Saved Best Model\n"
          ]
        },
        {
          "output_type": "stream",
          "name": "stderr",
          "text": [
            "Epoch 20/150: 100%|██████████| 375/375 [00:06<00:00, 60.85it/s]\n"
          ]
        },
        {
          "output_type": "stream",
          "name": "stdout",
          "text": [
            "Epoch 20, Train Loss: 104.5384, Val Loss: 105.1558, Time: 7.37 sec\n"
          ]
        },
        {
          "output_type": "stream",
          "name": "stderr",
          "text": [
            "Epoch 21/150: 100%|██████████| 375/375 [00:05<00:00, 68.24it/s]\n"
          ]
        },
        {
          "output_type": "stream",
          "name": "stdout",
          "text": [
            "Epoch 21, Train Loss: 104.4164, Val Loss: 104.9649, Time: 6.67 sec\n",
            "Saved Best Model\n"
          ]
        },
        {
          "output_type": "stream",
          "name": "stderr",
          "text": [
            "Epoch 22/150: 100%|██████████| 375/375 [00:06<00:00, 61.13it/s]\n"
          ]
        },
        {
          "output_type": "stream",
          "name": "stdout",
          "text": [
            "Epoch 22, Train Loss: 104.2801, Val Loss: 104.8275, Time: 7.31 sec\n",
            "Saved Best Model\n"
          ]
        },
        {
          "output_type": "stream",
          "name": "stderr",
          "text": [
            "Epoch 23/150: 100%|██████████| 375/375 [00:05<00:00, 66.77it/s]\n"
          ]
        },
        {
          "output_type": "stream",
          "name": "stdout",
          "text": [
            "Epoch 23, Train Loss: 104.1665, Val Loss: 104.7161, Time: 7.29 sec\n",
            "Saved Best Model\n"
          ]
        },
        {
          "output_type": "stream",
          "name": "stderr",
          "text": [
            "Epoch 24/150: 100%|██████████| 375/375 [00:05<00:00, 66.89it/s]\n"
          ]
        },
        {
          "output_type": "stream",
          "name": "stdout",
          "text": [
            "Epoch 24, Train Loss: 103.9607, Val Loss: 104.5492, Time: 6.77 sec\n",
            "Saved Best Model\n"
          ]
        },
        {
          "output_type": "stream",
          "name": "stderr",
          "text": [
            "Epoch 25/150: 100%|██████████| 375/375 [00:06<00:00, 60.61it/s]\n"
          ]
        },
        {
          "output_type": "stream",
          "name": "stdout",
          "text": [
            "Epoch 25, Train Loss: 103.8963, Val Loss: 104.5691, Time: 7.36 sec\n"
          ]
        },
        {
          "output_type": "stream",
          "name": "stderr",
          "text": [
            "Epoch 26/150: 100%|██████████| 375/375 [00:05<00:00, 68.08it/s]\n"
          ]
        },
        {
          "output_type": "stream",
          "name": "stdout",
          "text": [
            "Epoch 26, Train Loss: 103.7321, Val Loss: 104.4538, Time: 6.75 sec\n",
            "Saved Best Model\n"
          ]
        },
        {
          "output_type": "stream",
          "name": "stderr",
          "text": [
            "Epoch 27/150: 100%|██████████| 375/375 [00:06<00:00, 61.36it/s]\n"
          ]
        },
        {
          "output_type": "stream",
          "name": "stdout",
          "text": [
            "Epoch 27, Train Loss: 103.6603, Val Loss: 104.4199, Time: 7.31 sec\n",
            "Saved Best Model\n"
          ]
        },
        {
          "output_type": "stream",
          "name": "stderr",
          "text": [
            "Epoch 28/150: 100%|██████████| 375/375 [00:05<00:00, 68.38it/s]\n"
          ]
        },
        {
          "output_type": "stream",
          "name": "stdout",
          "text": [
            "Epoch 28, Train Loss: 103.5182, Val Loss: 104.2912, Time: 6.99 sec\n",
            "Saved Best Model\n"
          ]
        },
        {
          "output_type": "stream",
          "name": "stderr",
          "text": [
            "Epoch 29/150: 100%|██████████| 375/375 [00:05<00:00, 63.65it/s]\n"
          ]
        },
        {
          "output_type": "stream",
          "name": "stdout",
          "text": [
            "Epoch 29, Train Loss: 103.4706, Val Loss: 104.4284, Time: 7.07 sec\n"
          ]
        },
        {
          "output_type": "stream",
          "name": "stderr",
          "text": [
            "Epoch 30/150: 100%|██████████| 375/375 [00:06<00:00, 59.51it/s]\n"
          ]
        },
        {
          "output_type": "stream",
          "name": "stdout",
          "text": [
            "Epoch 30, Train Loss: 103.3496, Val Loss: 104.1160, Time: 7.48 sec\n",
            "Saved Best Model\n"
          ]
        },
        {
          "output_type": "stream",
          "name": "stderr",
          "text": [
            "Epoch 31/150: 100%|██████████| 375/375 [00:05<00:00, 67.00it/s]\n"
          ]
        },
        {
          "output_type": "stream",
          "name": "stdout",
          "text": [
            "Epoch 31, Train Loss: 103.2637, Val Loss: 104.1166, Time: 6.77 sec\n"
          ]
        },
        {
          "output_type": "stream",
          "name": "stderr",
          "text": [
            "Epoch 32/150: 100%|██████████| 375/375 [00:06<00:00, 60.93it/s]\n"
          ]
        },
        {
          "output_type": "stream",
          "name": "stdout",
          "text": [
            "Epoch 32, Train Loss: 103.1618, Val Loss: 104.0071, Time: 7.33 sec\n",
            "Saved Best Model\n"
          ]
        },
        {
          "output_type": "stream",
          "name": "stderr",
          "text": [
            "Epoch 33/150: 100%|██████████| 375/375 [00:05<00:00, 67.58it/s]\n"
          ]
        },
        {
          "output_type": "stream",
          "name": "stdout",
          "text": [
            "Epoch 33, Train Loss: 103.1123, Val Loss: 103.8762, Time: 6.91 sec\n",
            "Saved Best Model\n"
          ]
        },
        {
          "output_type": "stream",
          "name": "stderr",
          "text": [
            "Epoch 34/150: 100%|██████████| 375/375 [00:05<00:00, 63.11it/s]\n"
          ]
        },
        {
          "output_type": "stream",
          "name": "stdout",
          "text": [
            "Epoch 34, Train Loss: 103.0087, Val Loss: 103.9317, Time: 7.10 sec\n"
          ]
        },
        {
          "output_type": "stream",
          "name": "stderr",
          "text": [
            "Epoch 35/150: 100%|██████████| 375/375 [00:05<00:00, 63.02it/s]\n"
          ]
        },
        {
          "output_type": "stream",
          "name": "stdout",
          "text": [
            "Epoch 35, Train Loss: 102.9594, Val Loss: 103.7991, Time: 7.34 sec\n",
            "Saved Best Model\n"
          ]
        },
        {
          "output_type": "stream",
          "name": "stderr",
          "text": [
            "Epoch 36/150: 100%|██████████| 375/375 [00:05<00:00, 66.84it/s]\n"
          ]
        },
        {
          "output_type": "stream",
          "name": "stdout",
          "text": [
            "Epoch 36, Train Loss: 102.8668, Val Loss: 103.8135, Time: 6.78 sec\n"
          ]
        },
        {
          "output_type": "stream",
          "name": "stderr",
          "text": [
            "Epoch 37/150: 100%|██████████| 375/375 [00:06<00:00, 61.18it/s]\n"
          ]
        },
        {
          "output_type": "stream",
          "name": "stdout",
          "text": [
            "Epoch 37, Train Loss: 102.7971, Val Loss: 103.7533, Time: 7.34 sec\n",
            "Saved Best Model\n"
          ]
        },
        {
          "output_type": "stream",
          "name": "stderr",
          "text": [
            "Epoch 38/150: 100%|██████████| 375/375 [00:05<00:00, 66.73it/s]\n"
          ]
        },
        {
          "output_type": "stream",
          "name": "stdout",
          "text": [
            "Epoch 38, Train Loss: 102.7289, Val Loss: 103.7671, Time: 6.81 sec\n"
          ]
        },
        {
          "output_type": "stream",
          "name": "stderr",
          "text": [
            "Epoch 39/150: 100%|██████████| 375/375 [00:06<00:00, 60.71it/s]\n"
          ]
        },
        {
          "output_type": "stream",
          "name": "stdout",
          "text": [
            "Epoch 39, Train Loss: 102.6942, Val Loss: 103.6626, Time: 7.33 sec\n",
            "Saved Best Model\n"
          ]
        },
        {
          "output_type": "stream",
          "name": "stderr",
          "text": [
            "Epoch 40/150: 100%|██████████| 375/375 [00:05<00:00, 64.32it/s]\n"
          ]
        },
        {
          "output_type": "stream",
          "name": "stdout",
          "text": [
            "Epoch 40, Train Loss: 102.6305, Val Loss: 103.5141, Time: 7.43 sec\n",
            "Saved Best Model\n"
          ]
        },
        {
          "output_type": "stream",
          "name": "stderr",
          "text": [
            "Epoch 41/150: 100%|██████████| 375/375 [00:05<00:00, 68.13it/s]\n"
          ]
        },
        {
          "output_type": "stream",
          "name": "stdout",
          "text": [
            "Epoch 41, Train Loss: 102.5573, Val Loss: 103.5239, Time: 6.68 sec\n"
          ]
        },
        {
          "output_type": "stream",
          "name": "stderr",
          "text": [
            "Epoch 42/150: 100%|██████████| 375/375 [00:06<00:00, 60.95it/s]\n"
          ]
        },
        {
          "output_type": "stream",
          "name": "stdout",
          "text": [
            "Epoch 42, Train Loss: 102.4541, Val Loss: 103.4832, Time: 7.34 sec\n",
            "Saved Best Model\n"
          ]
        },
        {
          "output_type": "stream",
          "name": "stderr",
          "text": [
            "Epoch 43/150: 100%|██████████| 375/375 [00:05<00:00, 67.85it/s]\n"
          ]
        },
        {
          "output_type": "stream",
          "name": "stdout",
          "text": [
            "Epoch 43, Train Loss: 102.4282, Val Loss: 103.3947, Time: 6.71 sec\n",
            "Saved Best Model\n"
          ]
        },
        {
          "output_type": "stream",
          "name": "stderr",
          "text": [
            "Epoch 44/150: 100%|██████████| 375/375 [00:06<00:00, 61.43it/s]\n"
          ]
        },
        {
          "output_type": "stream",
          "name": "stdout",
          "text": [
            "Epoch 44, Train Loss: 102.3835, Val Loss: 103.3119, Time: 7.26 sec\n",
            "Saved Best Model\n"
          ]
        },
        {
          "output_type": "stream",
          "name": "stderr",
          "text": [
            "Epoch 45/150: 100%|██████████| 375/375 [00:05<00:00, 67.70it/s]\n"
          ]
        },
        {
          "output_type": "stream",
          "name": "stdout",
          "text": [
            "Epoch 45, Train Loss: 102.3048, Val Loss: 103.2981, Time: 7.14 sec\n",
            "Saved Best Model\n"
          ]
        },
        {
          "output_type": "stream",
          "name": "stderr",
          "text": [
            "Epoch 46/150: 100%|██████████| 375/375 [00:05<00:00, 65.38it/s]\n"
          ]
        },
        {
          "output_type": "stream",
          "name": "stdout",
          "text": [
            "Epoch 46, Train Loss: 102.2699, Val Loss: 103.2685, Time: 6.90 sec\n",
            "Saved Best Model\n"
          ]
        },
        {
          "output_type": "stream",
          "name": "stderr",
          "text": [
            "Epoch 47/150: 100%|██████████| 375/375 [00:06<00:00, 60.56it/s]\n"
          ]
        },
        {
          "output_type": "stream",
          "name": "stdout",
          "text": [
            "Epoch 47, Train Loss: 102.2022, Val Loss: 103.3988, Time: 7.38 sec\n"
          ]
        },
        {
          "output_type": "stream",
          "name": "stderr",
          "text": [
            "Epoch 48/150: 100%|██████████| 375/375 [00:05<00:00, 68.27it/s]\n"
          ]
        },
        {
          "output_type": "stream",
          "name": "stdout",
          "text": [
            "Epoch 48, Train Loss: 102.2332, Val Loss: 103.2729, Time: 6.65 sec\n"
          ]
        },
        {
          "output_type": "stream",
          "name": "stderr",
          "text": [
            "Epoch 49/150: 100%|██████████| 375/375 [00:06<00:00, 61.04it/s]\n"
          ]
        },
        {
          "output_type": "stream",
          "name": "stdout",
          "text": [
            "Epoch 49, Train Loss: 102.1293, Val Loss: 103.2139, Time: 7.30 sec\n",
            "Saved Best Model\n"
          ]
        },
        {
          "output_type": "stream",
          "name": "stderr",
          "text": [
            "Epoch 50/150: 100%|██████████| 375/375 [00:05<00:00, 67.60it/s]\n"
          ]
        },
        {
          "output_type": "stream",
          "name": "stdout",
          "text": [
            "Epoch 50, Train Loss: 102.1058, Val Loss: 103.0698, Time: 6.92 sec\n",
            "Saved Best Model\n"
          ]
        },
        {
          "output_type": "stream",
          "name": "stderr",
          "text": [
            "Epoch 51/150: 100%|██████████| 375/375 [00:05<00:00, 63.30it/s]\n"
          ]
        },
        {
          "output_type": "stream",
          "name": "stdout",
          "text": [
            "Epoch 51, Train Loss: 102.0864, Val Loss: 102.9858, Time: 7.09 sec\n",
            "Saved Best Model\n"
          ]
        },
        {
          "output_type": "stream",
          "name": "stderr",
          "text": [
            "Epoch 52/150: 100%|██████████| 375/375 [00:05<00:00, 62.62it/s]\n"
          ]
        },
        {
          "output_type": "stream",
          "name": "stdout",
          "text": [
            "Epoch 52, Train Loss: 101.9879, Val Loss: 103.0152, Time: 7.30 sec\n"
          ]
        },
        {
          "output_type": "stream",
          "name": "stderr",
          "text": [
            "Epoch 53/150: 100%|██████████| 375/375 [00:05<00:00, 68.19it/s]\n"
          ]
        },
        {
          "output_type": "stream",
          "name": "stdout",
          "text": [
            "Epoch 53, Train Loss: 101.9540, Val Loss: 103.0190, Time: 6.69 sec\n"
          ]
        },
        {
          "output_type": "stream",
          "name": "stderr",
          "text": [
            "Epoch 54/150: 100%|██████████| 375/375 [00:06<00:00, 61.39it/s]\n"
          ]
        },
        {
          "output_type": "stream",
          "name": "stdout",
          "text": [
            "Epoch 54, Train Loss: 101.8775, Val Loss: 103.0302, Time: 7.32 sec\n"
          ]
        },
        {
          "output_type": "stream",
          "name": "stderr",
          "text": [
            "Epoch 55/150: 100%|██████████| 375/375 [00:05<00:00, 67.49it/s]\n"
          ]
        },
        {
          "output_type": "stream",
          "name": "stdout",
          "text": [
            "Epoch 55, Train Loss: 101.8535, Val Loss: 103.0005, Time: 6.73 sec\n"
          ]
        },
        {
          "output_type": "stream",
          "name": "stderr",
          "text": [
            "Epoch 56/150: 100%|██████████| 375/375 [00:06<00:00, 61.11it/s]\n"
          ]
        },
        {
          "output_type": "stream",
          "name": "stdout",
          "text": [
            "Epoch 56, Train Loss: 101.8414, Val Loss: 103.0036, Time: 7.31 sec\n"
          ]
        },
        {
          "output_type": "stream",
          "name": "stderr",
          "text": [
            "Epoch 57/150: 100%|██████████| 375/375 [00:05<00:00, 65.63it/s]\n"
          ]
        },
        {
          "output_type": "stream",
          "name": "stdout",
          "text": [
            "Epoch 57, Train Loss: 101.7752, Val Loss: 102.9625, Time: 7.31 sec\n",
            "Saved Best Model\n"
          ]
        },
        {
          "output_type": "stream",
          "name": "stderr",
          "text": [
            "Epoch 58/150: 100%|██████████| 375/375 [00:05<00:00, 68.28it/s]\n"
          ]
        },
        {
          "output_type": "stream",
          "name": "stdout",
          "text": [
            "Epoch 58, Train Loss: 101.8044, Val Loss: 102.8339, Time: 6.66 sec\n",
            "Saved Best Model\n"
          ]
        },
        {
          "output_type": "stream",
          "name": "stderr",
          "text": [
            "Epoch 59/150: 100%|██████████| 375/375 [00:06<00:00, 60.87it/s]\n"
          ]
        },
        {
          "output_type": "stream",
          "name": "stdout",
          "text": [
            "Epoch 59, Train Loss: 101.7117, Val Loss: 102.9503, Time: 7.34 sec\n"
          ]
        },
        {
          "output_type": "stream",
          "name": "stderr",
          "text": [
            "Epoch 60/150: 100%|██████████| 375/375 [00:05<00:00, 68.01it/s]\n"
          ]
        },
        {
          "output_type": "stream",
          "name": "stdout",
          "text": [
            "Epoch 60, Train Loss: 101.7037, Val Loss: 102.8199, Time: 6.68 sec\n",
            "Saved Best Model\n"
          ]
        },
        {
          "output_type": "stream",
          "name": "stderr",
          "text": [
            "Epoch 61/150: 100%|██████████| 375/375 [00:06<00:00, 60.98it/s]\n"
          ]
        },
        {
          "output_type": "stream",
          "name": "stdout",
          "text": [
            "Epoch 61, Train Loss: 101.6712, Val Loss: 102.8211, Time: 7.31 sec\n"
          ]
        },
        {
          "output_type": "stream",
          "name": "stderr",
          "text": [
            "Epoch 62/150: 100%|██████████| 375/375 [00:05<00:00, 67.29it/s]\n"
          ]
        },
        {
          "output_type": "stream",
          "name": "stdout",
          "text": [
            "Epoch 62, Train Loss: 101.6010, Val Loss: 102.7600, Time: 7.14 sec\n",
            "Saved Best Model\n"
          ]
        },
        {
          "output_type": "stream",
          "name": "stderr",
          "text": [
            "Epoch 63/150: 100%|██████████| 375/375 [00:05<00:00, 64.54it/s]\n"
          ]
        },
        {
          "output_type": "stream",
          "name": "stdout",
          "text": [
            "Epoch 63, Train Loss: 101.6349, Val Loss: 102.6691, Time: 6.97 sec\n",
            "Saved Best Model\n"
          ]
        },
        {
          "output_type": "stream",
          "name": "stderr",
          "text": [
            "Epoch 64/150: 100%|██████████| 375/375 [00:06<00:00, 60.31it/s]\n"
          ]
        },
        {
          "output_type": "stream",
          "name": "stdout",
          "text": [
            "Epoch 64, Train Loss: 101.5857, Val Loss: 102.5432, Time: 7.40 sec\n",
            "Saved Best Model\n"
          ]
        },
        {
          "output_type": "stream",
          "name": "stderr",
          "text": [
            "Epoch 65/150: 100%|██████████| 375/375 [00:05<00:00, 68.55it/s]\n"
          ]
        },
        {
          "output_type": "stream",
          "name": "stdout",
          "text": [
            "Epoch 65, Train Loss: 101.5339, Val Loss: 102.5635, Time: 6.64 sec\n"
          ]
        },
        {
          "output_type": "stream",
          "name": "stderr",
          "text": [
            "Epoch 66/150: 100%|██████████| 375/375 [00:06<00:00, 60.47it/s]\n"
          ]
        },
        {
          "output_type": "stream",
          "name": "stdout",
          "text": [
            "Epoch 66, Train Loss: 101.4688, Val Loss: 102.6704, Time: 7.39 sec\n"
          ]
        },
        {
          "output_type": "stream",
          "name": "stderr",
          "text": [
            "Epoch 67/150: 100%|██████████| 375/375 [00:05<00:00, 67.59it/s]\n"
          ]
        },
        {
          "output_type": "stream",
          "name": "stdout",
          "text": [
            "Epoch 67, Train Loss: 101.5131, Val Loss: 102.7129, Time: 6.94 sec\n"
          ]
        },
        {
          "output_type": "stream",
          "name": "stderr",
          "text": [
            "Epoch 68/150: 100%|██████████| 375/375 [00:05<00:00, 62.84it/s]\n"
          ]
        },
        {
          "output_type": "stream",
          "name": "stdout",
          "text": [
            "Epoch 68, Train Loss: 101.4188, Val Loss: 102.6240, Time: 7.14 sec\n"
          ]
        },
        {
          "output_type": "stream",
          "name": "stderr",
          "text": [
            "Epoch 69/150: 100%|██████████| 375/375 [00:06<00:00, 61.16it/s]\n"
          ]
        },
        {
          "output_type": "stream",
          "name": "stdout",
          "text": [
            "Epoch 69, Train Loss: 101.4017, Val Loss: 102.5464, Time: 7.31 sec\n"
          ]
        },
        {
          "output_type": "stream",
          "name": "stderr",
          "text": [
            "Epoch 70/150: 100%|██████████| 375/375 [00:05<00:00, 67.93it/s]\n"
          ]
        },
        {
          "output_type": "stream",
          "name": "stdout",
          "text": [
            "Epoch 70, Train Loss: 101.3881, Val Loss: 102.4289, Time: 6.72 sec\n",
            "Saved Best Model\n"
          ]
        },
        {
          "output_type": "stream",
          "name": "stderr",
          "text": [
            "Epoch 71/150: 100%|██████████| 375/375 [00:06<00:00, 60.62it/s]\n"
          ]
        },
        {
          "output_type": "stream",
          "name": "stdout",
          "text": [
            "Epoch 71, Train Loss: 101.3292, Val Loss: 102.6125, Time: 7.37 sec\n"
          ]
        },
        {
          "output_type": "stream",
          "name": "stderr",
          "text": [
            "Epoch 72/150: 100%|██████████| 375/375 [00:05<00:00, 68.35it/s]\n"
          ]
        },
        {
          "output_type": "stream",
          "name": "stdout",
          "text": [
            "Epoch 72, Train Loss: 101.3006, Val Loss: 102.7457, Time: 6.67 sec\n"
          ]
        },
        {
          "output_type": "stream",
          "name": "stderr",
          "text": [
            "Epoch 73/150: 100%|██████████| 375/375 [00:06<00:00, 60.19it/s]\n"
          ]
        },
        {
          "output_type": "stream",
          "name": "stdout",
          "text": [
            "Epoch 73, Train Loss: 101.2723, Val Loss: 102.5314, Time: 7.39 sec\n"
          ]
        },
        {
          "output_type": "stream",
          "name": "stderr",
          "text": [
            "Epoch 74/150: 100%|██████████| 375/375 [00:05<00:00, 63.18it/s]\n"
          ]
        },
        {
          "output_type": "stream",
          "name": "stdout",
          "text": [
            "Epoch 74, Train Loss: 101.2670, Val Loss: 102.5134, Time: 7.50 sec\n"
          ]
        },
        {
          "output_type": "stream",
          "name": "stderr",
          "text": [
            "Epoch 75/150: 100%|██████████| 375/375 [00:05<00:00, 67.66it/s]\n"
          ]
        },
        {
          "output_type": "stream",
          "name": "stdout",
          "text": [
            "Epoch 75, Train Loss: 101.2709, Val Loss: 102.3960, Time: 6.72 sec\n",
            "Saved Best Model\n"
          ]
        },
        {
          "output_type": "stream",
          "name": "stderr",
          "text": [
            "Epoch 76/150: 100%|██████████| 375/375 [00:06<00:00, 60.40it/s]\n"
          ]
        },
        {
          "output_type": "stream",
          "name": "stdout",
          "text": [
            "Epoch 76, Train Loss: 101.1861, Val Loss: 102.3781, Time: 7.39 sec\n",
            "Saved Best Model\n"
          ]
        },
        {
          "output_type": "stream",
          "name": "stderr",
          "text": [
            "Epoch 77/150: 100%|██████████| 375/375 [00:05<00:00, 67.36it/s]\n"
          ]
        },
        {
          "output_type": "stream",
          "name": "stdout",
          "text": [
            "Epoch 77, Train Loss: 101.2025, Val Loss: 102.4263, Time: 6.74 sec\n"
          ]
        },
        {
          "output_type": "stream",
          "name": "stderr",
          "text": [
            "Epoch 78/150: 100%|██████████| 375/375 [00:06<00:00, 61.18it/s]\n"
          ]
        },
        {
          "output_type": "stream",
          "name": "stdout",
          "text": [
            "Epoch 78, Train Loss: 101.1704, Val Loss: 102.4522, Time: 7.30 sec\n"
          ]
        },
        {
          "output_type": "stream",
          "name": "stderr",
          "text": [
            "Epoch 79/150: 100%|██████████| 375/375 [00:05<00:00, 66.21it/s]\n"
          ]
        },
        {
          "output_type": "stream",
          "name": "stdout",
          "text": [
            "Epoch 79, Train Loss: 101.1504, Val Loss: 102.4416, Time: 7.36 sec\n"
          ]
        },
        {
          "output_type": "stream",
          "name": "stderr",
          "text": [
            "Epoch 80/150: 100%|██████████| 375/375 [00:05<00:00, 67.64it/s]\n"
          ]
        },
        {
          "output_type": "stream",
          "name": "stdout",
          "text": [
            "Epoch 80, Train Loss: 101.1149, Val Loss: 102.3415, Time: 6.74 sec\n",
            "Saved Best Model\n"
          ]
        },
        {
          "output_type": "stream",
          "name": "stderr",
          "text": [
            "Epoch 81/150: 100%|██████████| 375/375 [00:06<00:00, 60.72it/s]\n"
          ]
        },
        {
          "output_type": "stream",
          "name": "stdout",
          "text": [
            "Epoch 81, Train Loss: 101.0739, Val Loss: 102.3094, Time: 7.36 sec\n",
            "Saved Best Model\n"
          ]
        },
        {
          "output_type": "stream",
          "name": "stderr",
          "text": [
            "Epoch 82/150: 100%|██████████| 375/375 [00:05<00:00, 67.53it/s]\n"
          ]
        },
        {
          "output_type": "stream",
          "name": "stdout",
          "text": [
            "Epoch 82, Train Loss: 101.0681, Val Loss: 102.3372, Time: 6.73 sec\n"
          ]
        },
        {
          "output_type": "stream",
          "name": "stderr",
          "text": [
            "Epoch 83/150: 100%|██████████| 375/375 [00:06<00:00, 60.60it/s]\n"
          ]
        },
        {
          "output_type": "stream",
          "name": "stdout",
          "text": [
            "Epoch 83, Train Loss: 101.0135, Val Loss: 102.2675, Time: 7.37 sec\n",
            "Saved Best Model\n"
          ]
        },
        {
          "output_type": "stream",
          "name": "stderr",
          "text": [
            "Epoch 84/150: 100%|██████████| 375/375 [00:05<00:00, 67.91it/s]\n"
          ]
        },
        {
          "output_type": "stream",
          "name": "stdout",
          "text": [
            "Epoch 84, Train Loss: 101.0551, Val Loss: 102.4480, Time: 7.10 sec\n"
          ]
        },
        {
          "output_type": "stream",
          "name": "stderr",
          "text": [
            "Epoch 85/150: 100%|██████████| 375/375 [00:05<00:00, 65.29it/s]\n"
          ]
        },
        {
          "output_type": "stream",
          "name": "stdout",
          "text": [
            "Epoch 85, Train Loss: 100.9474, Val Loss: 102.1813, Time: 6.94 sec\n",
            "Saved Best Model\n"
          ]
        },
        {
          "output_type": "stream",
          "name": "stderr",
          "text": [
            "Epoch 86/150: 100%|██████████| 375/375 [00:06<00:00, 60.24it/s]\n"
          ]
        },
        {
          "output_type": "stream",
          "name": "stdout",
          "text": [
            "Epoch 86, Train Loss: 100.9919, Val Loss: 102.2207, Time: 7.41 sec\n"
          ]
        },
        {
          "output_type": "stream",
          "name": "stderr",
          "text": [
            "Epoch 87/150: 100%|██████████| 375/375 [00:05<00:00, 67.25it/s]\n"
          ]
        },
        {
          "output_type": "stream",
          "name": "stdout",
          "text": [
            "Epoch 87, Train Loss: 100.9285, Val Loss: 102.2684, Time: 6.77 sec\n"
          ]
        },
        {
          "output_type": "stream",
          "name": "stderr",
          "text": [
            "Epoch 88/150: 100%|██████████| 375/375 [00:06<00:00, 60.91it/s]\n"
          ]
        },
        {
          "output_type": "stream",
          "name": "stdout",
          "text": [
            "Epoch 88, Train Loss: 100.9371, Val Loss: 102.0778, Time: 7.35 sec\n",
            "Saved Best Model\n"
          ]
        },
        {
          "output_type": "stream",
          "name": "stderr",
          "text": [
            "Epoch 89/150: 100%|██████████| 375/375 [00:05<00:00, 67.23it/s]\n"
          ]
        },
        {
          "output_type": "stream",
          "name": "stdout",
          "text": [
            "Epoch 89, Train Loss: 100.9020, Val Loss: 102.2556, Time: 6.99 sec\n"
          ]
        },
        {
          "output_type": "stream",
          "name": "stderr",
          "text": [
            "Epoch 90/150: 100%|██████████| 375/375 [00:05<00:00, 62.74it/s]\n"
          ]
        },
        {
          "output_type": "stream",
          "name": "stdout",
          "text": [
            "Epoch 90, Train Loss: 100.8811, Val Loss: 102.1034, Time: 7.15 sec\n"
          ]
        },
        {
          "output_type": "stream",
          "name": "stderr",
          "text": [
            "Epoch 91/150: 100%|██████████| 375/375 [00:06<00:00, 59.66it/s]\n"
          ]
        },
        {
          "output_type": "stream",
          "name": "stdout",
          "text": [
            "Epoch 91, Train Loss: 100.8453, Val Loss: 102.1730, Time: 7.95 sec\n"
          ]
        },
        {
          "output_type": "stream",
          "name": "stderr",
          "text": [
            "Epoch 92/150: 100%|██████████| 375/375 [00:05<00:00, 66.15it/s]\n"
          ]
        },
        {
          "output_type": "stream",
          "name": "stdout",
          "text": [
            "Epoch 92, Train Loss: 100.8321, Val Loss: 102.0660, Time: 6.86 sec\n",
            "Saved Best Model\n"
          ]
        },
        {
          "output_type": "stream",
          "name": "stderr",
          "text": [
            "Epoch 93/150: 100%|██████████| 375/375 [00:06<00:00, 60.25it/s]\n"
          ]
        },
        {
          "output_type": "stream",
          "name": "stdout",
          "text": [
            "Epoch 93, Train Loss: 100.7904, Val Loss: 102.2230, Time: 7.41 sec\n"
          ]
        },
        {
          "output_type": "stream",
          "name": "stderr",
          "text": [
            "Epoch 94/150: 100%|██████████| 375/375 [00:05<00:00, 67.80it/s]\n"
          ]
        },
        {
          "output_type": "stream",
          "name": "stdout",
          "text": [
            "Epoch 94, Train Loss: 100.8292, Val Loss: 102.1332, Time: 7.04 sec\n"
          ]
        },
        {
          "output_type": "stream",
          "name": "stderr",
          "text": [
            "Epoch 95/150: 100%|██████████| 375/375 [00:05<00:00, 63.67it/s]\n"
          ]
        },
        {
          "output_type": "stream",
          "name": "stdout",
          "text": [
            "Epoch 95, Train Loss: 100.7672, Val Loss: 102.0772, Time: 7.06 sec\n"
          ]
        },
        {
          "output_type": "stream",
          "name": "stderr",
          "text": [
            "Epoch 96/150: 100%|██████████| 375/375 [00:06<00:00, 60.38it/s]\n"
          ]
        },
        {
          "output_type": "stream",
          "name": "stdout",
          "text": [
            "Epoch 96, Train Loss: 100.7797, Val Loss: 102.2084, Time: 7.39 sec\n"
          ]
        },
        {
          "output_type": "stream",
          "name": "stderr",
          "text": [
            "Epoch 97/150: 100%|██████████| 375/375 [00:05<00:00, 67.15it/s]\n"
          ]
        },
        {
          "output_type": "stream",
          "name": "stdout",
          "text": [
            "Epoch 97, Train Loss: 100.7338, Val Loss: 102.1050, Time: 6.75 sec\n"
          ]
        },
        {
          "output_type": "stream",
          "name": "stderr",
          "text": [
            "Epoch 98/150: 100%|██████████| 375/375 [00:06<00:00, 60.18it/s]\n"
          ]
        },
        {
          "output_type": "stream",
          "name": "stdout",
          "text": [
            "Epoch 98, Train Loss: 100.7452, Val Loss: 102.0408, Time: 7.41 sec\n",
            "Saved Best Model\n"
          ]
        },
        {
          "output_type": "stream",
          "name": "stderr",
          "text": [
            "Epoch 99/150: 100%|██████████| 375/375 [00:05<00:00, 67.82it/s]\n"
          ]
        },
        {
          "output_type": "stream",
          "name": "stdout",
          "text": [
            "Epoch 99, Train Loss: 100.7241, Val Loss: 101.9877, Time: 6.84 sec\n",
            "Saved Best Model\n"
          ]
        },
        {
          "output_type": "stream",
          "name": "stderr",
          "text": [
            "Epoch 100/150: 100%|██████████| 375/375 [00:06<00:00, 61.82it/s]\n"
          ]
        },
        {
          "output_type": "stream",
          "name": "stdout",
          "text": [
            "Epoch 100, Train Loss: 100.6977, Val Loss: 102.0170, Time: 7.24 sec\n"
          ]
        },
        {
          "output_type": "stream",
          "name": "stderr",
          "text": [
            "Epoch 101/150: 100%|██████████| 375/375 [00:06<00:00, 62.20it/s]\n"
          ]
        },
        {
          "output_type": "stream",
          "name": "stdout",
          "text": [
            "Epoch 101, Train Loss: 100.7030, Val Loss: 101.9636, Time: 7.40 sec\n",
            "Saved Best Model\n"
          ]
        },
        {
          "output_type": "stream",
          "name": "stderr",
          "text": [
            "Epoch 102/150: 100%|██████████| 375/375 [00:05<00:00, 67.80it/s]\n"
          ]
        },
        {
          "output_type": "stream",
          "name": "stdout",
          "text": [
            "Epoch 102, Train Loss: 100.6572, Val Loss: 101.8278, Time: 6.70 sec\n",
            "Saved Best Model\n"
          ]
        },
        {
          "output_type": "stream",
          "name": "stderr",
          "text": [
            "Epoch 103/150: 100%|██████████| 375/375 [00:06<00:00, 60.75it/s]\n"
          ]
        },
        {
          "output_type": "stream",
          "name": "stdout",
          "text": [
            "Epoch 103, Train Loss: 100.6389, Val Loss: 101.9355, Time: 7.35 sec\n"
          ]
        },
        {
          "output_type": "stream",
          "name": "stderr",
          "text": [
            "Epoch 104/150: 100%|██████████| 375/375 [00:05<00:00, 67.40it/s]\n"
          ]
        },
        {
          "output_type": "stream",
          "name": "stdout",
          "text": [
            "Epoch 104, Train Loss: 100.6750, Val Loss: 101.8633, Time: 6.75 sec\n"
          ]
        },
        {
          "output_type": "stream",
          "name": "stderr",
          "text": [
            "Epoch 105/150: 100%|██████████| 375/375 [00:06<00:00, 60.43it/s]\n"
          ]
        },
        {
          "output_type": "stream",
          "name": "stdout",
          "text": [
            "Epoch 105, Train Loss: 100.6070, Val Loss: 102.0068, Time: 7.39 sec\n"
          ]
        },
        {
          "output_type": "stream",
          "name": "stderr",
          "text": [
            "Epoch 106/150: 100%|██████████| 375/375 [00:05<00:00, 64.95it/s]\n"
          ]
        },
        {
          "output_type": "stream",
          "name": "stdout",
          "text": [
            "Epoch 106, Train Loss: 100.6066, Val Loss: 101.8864, Time: 7.36 sec\n"
          ]
        },
        {
          "output_type": "stream",
          "name": "stderr",
          "text": [
            "Epoch 107/150: 100%|██████████| 375/375 [00:05<00:00, 67.24it/s]\n"
          ]
        },
        {
          "output_type": "stream",
          "name": "stdout",
          "text": [
            "Epoch 107, Train Loss: 100.5683, Val Loss: 101.9021, Time: 6.75 sec\n"
          ]
        },
        {
          "output_type": "stream",
          "name": "stderr",
          "text": [
            "Epoch 108/150: 100%|██████████| 375/375 [00:06<00:00, 60.22it/s]\n"
          ]
        },
        {
          "output_type": "stream",
          "name": "stdout",
          "text": [
            "Epoch 108, Train Loss: 100.5824, Val Loss: 102.0815, Time: 7.42 sec\n"
          ]
        },
        {
          "output_type": "stream",
          "name": "stderr",
          "text": [
            "Epoch 109/150: 100%|██████████| 375/375 [00:05<00:00, 67.67it/s]\n"
          ]
        },
        {
          "output_type": "stream",
          "name": "stdout",
          "text": [
            "Epoch 109, Train Loss: 100.5638, Val Loss: 101.9148, Time: 6.76 sec\n"
          ]
        },
        {
          "output_type": "stream",
          "name": "stderr",
          "text": [
            "Epoch 110/150: 100%|██████████| 375/375 [00:06<00:00, 60.94it/s]\n"
          ]
        },
        {
          "output_type": "stream",
          "name": "stdout",
          "text": [
            "Epoch 110, Train Loss: 100.5347, Val Loss: 102.0017, Time: 7.34 sec\n"
          ]
        },
        {
          "output_type": "stream",
          "name": "stderr",
          "text": [
            "Epoch 111/150: 100%|██████████| 375/375 [00:05<00:00, 67.32it/s]\n"
          ]
        },
        {
          "output_type": "stream",
          "name": "stdout",
          "text": [
            "Epoch 111, Train Loss: 100.4916, Val Loss: 102.0001, Time: 7.26 sec\n"
          ]
        },
        {
          "output_type": "stream",
          "name": "stderr",
          "text": [
            "Epoch 112/150: 100%|██████████| 375/375 [00:05<00:00, 67.02it/s]\n"
          ]
        },
        {
          "output_type": "stream",
          "name": "stdout",
          "text": [
            "Epoch 112, Train Loss: 100.5048, Val Loss: 101.7646, Time: 6.78 sec\n",
            "Saved Best Model\n"
          ]
        },
        {
          "output_type": "stream",
          "name": "stderr",
          "text": [
            "Epoch 113/150: 100%|██████████| 375/375 [00:06<00:00, 60.86it/s]\n"
          ]
        },
        {
          "output_type": "stream",
          "name": "stdout",
          "text": [
            "Epoch 113, Train Loss: 100.5108, Val Loss: 101.8344, Time: 7.34 sec\n"
          ]
        },
        {
          "output_type": "stream",
          "name": "stderr",
          "text": [
            "Epoch 114/150: 100%|██████████| 375/375 [00:05<00:00, 67.02it/s]\n"
          ]
        },
        {
          "output_type": "stream",
          "name": "stdout",
          "text": [
            "Epoch 114, Train Loss: 100.4439, Val Loss: 101.9338, Time: 6.79 sec\n"
          ]
        },
        {
          "output_type": "stream",
          "name": "stderr",
          "text": [
            "Epoch 115/150: 100%|██████████| 375/375 [00:06<00:00, 60.56it/s]\n"
          ]
        },
        {
          "output_type": "stream",
          "name": "stdout",
          "text": [
            "Epoch 115, Train Loss: 100.5156, Val Loss: 101.7212, Time: 7.36 sec\n",
            "Saved Best Model\n"
          ]
        },
        {
          "output_type": "stream",
          "name": "stderr",
          "text": [
            "Epoch 116/150: 100%|██████████| 375/375 [00:05<00:00, 67.27it/s]\n"
          ]
        },
        {
          "output_type": "stream",
          "name": "stdout",
          "text": [
            "Epoch 116, Train Loss: 100.4382, Val Loss: 101.7728, Time: 7.09 sec\n"
          ]
        },
        {
          "output_type": "stream",
          "name": "stderr",
          "text": [
            "Epoch 117/150: 100%|██████████| 375/375 [00:05<00:00, 63.01it/s]\n"
          ]
        },
        {
          "output_type": "stream",
          "name": "stdout",
          "text": [
            "Epoch 117, Train Loss: 100.4304, Val Loss: 101.8299, Time: 7.11 sec\n"
          ]
        },
        {
          "output_type": "stream",
          "name": "stderr",
          "text": [
            "Epoch 118/150: 100%|██████████| 375/375 [00:06<00:00, 60.06it/s]\n"
          ]
        },
        {
          "output_type": "stream",
          "name": "stdout",
          "text": [
            "Epoch 118, Train Loss: 100.4468, Val Loss: 101.7745, Time: 7.44 sec\n"
          ]
        },
        {
          "output_type": "stream",
          "name": "stderr",
          "text": [
            "Epoch 119/150: 100%|██████████| 375/375 [00:05<00:00, 67.44it/s]\n"
          ]
        },
        {
          "output_type": "stream",
          "name": "stdout",
          "text": [
            "Epoch 119, Train Loss: 100.4365, Val Loss: 101.8384, Time: 6.72 sec\n"
          ]
        },
        {
          "output_type": "stream",
          "name": "stderr",
          "text": [
            "Epoch 120/150: 100%|██████████| 375/375 [00:10<00:00, 36.36it/s]\n"
          ]
        },
        {
          "output_type": "stream",
          "name": "stdout",
          "text": [
            "Epoch 120, Train Loss: 100.4118, Val Loss: 101.8235, Time: 11.53 sec\n"
          ]
        },
        {
          "output_type": "stream",
          "name": "stderr",
          "text": [
            "Epoch 121/150: 100%|██████████| 375/375 [00:06<00:00, 61.08it/s]\n"
          ]
        },
        {
          "output_type": "stream",
          "name": "stdout",
          "text": [
            "Epoch 121, Train Loss: 100.3942, Val Loss: 101.8852, Time: 7.35 sec\n"
          ]
        },
        {
          "output_type": "stream",
          "name": "stderr",
          "text": [
            "Epoch 122/150: 100%|██████████| 375/375 [00:05<00:00, 67.50it/s]\n"
          ]
        },
        {
          "output_type": "stream",
          "name": "stdout",
          "text": [
            "Epoch 122, Train Loss: 100.3927, Val Loss: 101.8782, Time: 6.74 sec\n"
          ]
        },
        {
          "output_type": "stream",
          "name": "stderr",
          "text": [
            "Epoch 123/150: 100%|██████████| 375/375 [00:06<00:00, 60.94it/s]\n"
          ]
        },
        {
          "output_type": "stream",
          "name": "stdout",
          "text": [
            "Epoch 123, Train Loss: 100.3521, Val Loss: 101.8193, Time: 7.34 sec\n"
          ]
        },
        {
          "output_type": "stream",
          "name": "stderr",
          "text": [
            "Epoch 124/150: 100%|██████████| 375/375 [00:05<00:00, 66.74it/s]\n"
          ]
        },
        {
          "output_type": "stream",
          "name": "stdout",
          "text": [
            "Epoch 124, Train Loss: 100.3445, Val Loss: 101.8418, Time: 7.35 sec\n"
          ]
        },
        {
          "output_type": "stream",
          "name": "stderr",
          "text": [
            "Epoch 125/150: 100%|██████████| 375/375 [00:05<00:00, 67.35it/s]\n"
          ]
        },
        {
          "output_type": "stream",
          "name": "stdout",
          "text": [
            "Epoch 125, Train Loss: 100.3577, Val Loss: 101.6427, Time: 6.74 sec\n",
            "Saved Best Model\n"
          ]
        },
        {
          "output_type": "stream",
          "name": "stderr",
          "text": [
            "Epoch 126/150: 100%|██████████| 375/375 [00:06<00:00, 60.62it/s]\n"
          ]
        },
        {
          "output_type": "stream",
          "name": "stdout",
          "text": [
            "Epoch 126, Train Loss: 100.3361, Val Loss: 101.6943, Time: 7.36 sec\n"
          ]
        },
        {
          "output_type": "stream",
          "name": "stderr",
          "text": [
            "Epoch 127/150: 100%|██████████| 375/375 [00:06<00:00, 60.58it/s]\n"
          ]
        },
        {
          "output_type": "stream",
          "name": "stdout",
          "text": [
            "Epoch 127, Train Loss: 100.2639, Val Loss: 101.8279, Time: 7.36 sec\n"
          ]
        },
        {
          "output_type": "stream",
          "name": "stderr",
          "text": [
            "Epoch 128/150: 100%|██████████| 375/375 [00:06<00:00, 60.56it/s]\n"
          ]
        },
        {
          "output_type": "stream",
          "name": "stdout",
          "text": [
            "Epoch 128, Train Loss: 100.2838, Val Loss: 101.7829, Time: 7.37 sec\n"
          ]
        },
        {
          "output_type": "stream",
          "name": "stderr",
          "text": [
            "Epoch 129/150: 100%|██████████| 375/375 [00:05<00:00, 66.29it/s]\n"
          ]
        },
        {
          "output_type": "stream",
          "name": "stdout",
          "text": [
            "Epoch 129, Train Loss: 100.2857, Val Loss: 101.6839, Time: 7.29 sec\n"
          ]
        },
        {
          "output_type": "stream",
          "name": "stderr",
          "text": [
            "Epoch 130/150: 100%|██████████| 375/375 [00:05<00:00, 66.38it/s]\n"
          ]
        },
        {
          "output_type": "stream",
          "name": "stdout",
          "text": [
            "Epoch 130, Train Loss: 100.2758, Val Loss: 101.7706, Time: 6.85 sec\n"
          ]
        },
        {
          "output_type": "stream",
          "name": "stderr",
          "text": [
            "Epoch 131/150: 100%|██████████| 375/375 [00:06<00:00, 60.61it/s]\n"
          ]
        },
        {
          "output_type": "stream",
          "name": "stdout",
          "text": [
            "Epoch 131, Train Loss: 100.2329, Val Loss: 101.8838, Time: 7.36 sec\n"
          ]
        },
        {
          "output_type": "stream",
          "name": "stderr",
          "text": [
            "Epoch 132/150: 100%|██████████| 375/375 [00:05<00:00, 68.08it/s]\n"
          ]
        },
        {
          "output_type": "stream",
          "name": "stdout",
          "text": [
            "Epoch 132, Train Loss: 100.2404, Val Loss: 101.6099, Time: 6.71 sec\n",
            "Saved Best Model\n"
          ]
        },
        {
          "output_type": "stream",
          "name": "stderr",
          "text": [
            "Epoch 133/150: 100%|██████████| 375/375 [00:06<00:00, 59.98it/s]\n"
          ]
        },
        {
          "output_type": "stream",
          "name": "stdout",
          "text": [
            "Epoch 133, Train Loss: 100.2573, Val Loss: 101.7844, Time: 7.43 sec\n"
          ]
        },
        {
          "output_type": "stream",
          "name": "stderr",
          "text": [
            "Epoch 134/150: 100%|██████████| 375/375 [00:05<00:00, 67.04it/s]\n"
          ]
        },
        {
          "output_type": "stream",
          "name": "stdout",
          "text": [
            "Epoch 134, Train Loss: 100.2410, Val Loss: 101.6544, Time: 7.22 sec\n"
          ]
        },
        {
          "output_type": "stream",
          "name": "stderr",
          "text": [
            "Epoch 135/150: 100%|██████████| 375/375 [00:05<00:00, 65.77it/s]\n"
          ]
        },
        {
          "output_type": "stream",
          "name": "stdout",
          "text": [
            "Epoch 135, Train Loss: 100.2003, Val Loss: 101.6059, Time: 6.89 sec\n",
            "Saved Best Model\n"
          ]
        },
        {
          "output_type": "stream",
          "name": "stderr",
          "text": [
            "Epoch 136/150: 100%|██████████| 375/375 [00:06<00:00, 60.58it/s]\n"
          ]
        },
        {
          "output_type": "stream",
          "name": "stdout",
          "text": [
            "Epoch 136, Train Loss: 100.1827, Val Loss: 101.6791, Time: 7.37 sec\n"
          ]
        },
        {
          "output_type": "stream",
          "name": "stderr",
          "text": [
            "Epoch 137/150: 100%|██████████| 375/375 [00:05<00:00, 66.75it/s]\n"
          ]
        },
        {
          "output_type": "stream",
          "name": "stdout",
          "text": [
            "Epoch 137, Train Loss: 100.1886, Val Loss: 101.5146, Time: 6.80 sec\n",
            "Saved Best Model\n"
          ]
        },
        {
          "output_type": "stream",
          "name": "stderr",
          "text": [
            "Epoch 138/150: 100%|██████████| 375/375 [00:06<00:00, 60.08it/s]\n"
          ]
        },
        {
          "output_type": "stream",
          "name": "stdout",
          "text": [
            "Epoch 138, Train Loss: 100.1778, Val Loss: 101.6383, Time: 7.40 sec\n"
          ]
        },
        {
          "output_type": "stream",
          "name": "stderr",
          "text": [
            "Epoch 139/150: 100%|██████████| 375/375 [00:05<00:00, 66.94it/s]\n"
          ]
        },
        {
          "output_type": "stream",
          "name": "stdout",
          "text": [
            "Epoch 139, Train Loss: 100.1464, Val Loss: 101.5587, Time: 7.13 sec\n"
          ]
        },
        {
          "output_type": "stream",
          "name": "stderr",
          "text": [
            "Epoch 140/150: 100%|██████████| 375/375 [00:05<00:00, 63.33it/s]\n"
          ]
        },
        {
          "output_type": "stream",
          "name": "stdout",
          "text": [
            "Epoch 140, Train Loss: 100.1690, Val Loss: 101.5961, Time: 7.09 sec\n"
          ]
        },
        {
          "output_type": "stream",
          "name": "stderr",
          "text": [
            "Epoch 141/150: 100%|██████████| 375/375 [00:06<00:00, 59.63it/s]\n"
          ]
        },
        {
          "output_type": "stream",
          "name": "stdout",
          "text": [
            "Epoch 141, Train Loss: 100.1209, Val Loss: 101.6398, Time: 7.47 sec\n"
          ]
        },
        {
          "output_type": "stream",
          "name": "stderr",
          "text": [
            "Epoch 142/150: 100%|██████████| 375/375 [00:05<00:00, 66.39it/s]\n"
          ]
        },
        {
          "output_type": "stream",
          "name": "stdout",
          "text": [
            "Epoch 142, Train Loss: 100.1188, Val Loss: 101.5342, Time: 6.83 sec\n"
          ]
        },
        {
          "output_type": "stream",
          "name": "stderr",
          "text": [
            "Epoch 143/150: 100%|██████████| 375/375 [00:06<00:00, 58.73it/s]\n"
          ]
        },
        {
          "output_type": "stream",
          "name": "stdout",
          "text": [
            "Epoch 143, Train Loss: 100.0632, Val Loss: 101.6442, Time: 7.57 sec\n"
          ]
        },
        {
          "output_type": "stream",
          "name": "stderr",
          "text": [
            "Epoch 144/150: 100%|██████████| 375/375 [00:05<00:00, 67.67it/s]\n"
          ]
        },
        {
          "output_type": "stream",
          "name": "stdout",
          "text": [
            "Epoch 144, Train Loss: 100.0959, Val Loss: 101.5304, Time: 7.00 sec\n"
          ]
        },
        {
          "output_type": "stream",
          "name": "stderr",
          "text": [
            "Epoch 145/150: 100%|██████████| 375/375 [00:06<00:00, 62.42it/s]\n"
          ]
        },
        {
          "output_type": "stream",
          "name": "stdout",
          "text": [
            "Epoch 145, Train Loss: 100.0817, Val Loss: 101.7519, Time: 7.18 sec\n"
          ]
        },
        {
          "output_type": "stream",
          "name": "stderr",
          "text": [
            "Epoch 146/150: 100%|██████████| 375/375 [00:06<00:00, 60.50it/s]\n"
          ]
        },
        {
          "output_type": "stream",
          "name": "stdout",
          "text": [
            "Epoch 146, Train Loss: 100.0472, Val Loss: 101.6070, Time: 7.39 sec\n"
          ]
        },
        {
          "output_type": "stream",
          "name": "stderr",
          "text": [
            "Epoch 147/150: 100%|██████████| 375/375 [00:05<00:00, 67.16it/s]\n"
          ]
        },
        {
          "output_type": "stream",
          "name": "stdout",
          "text": [
            "Epoch 147, Train Loss: 100.0716, Val Loss: 101.4901, Time: 6.74 sec\n",
            "Saved Best Model\n"
          ]
        },
        {
          "output_type": "stream",
          "name": "stderr",
          "text": [
            "Epoch 148/150: 100%|██████████| 375/375 [00:06<00:00, 60.44it/s]\n"
          ]
        },
        {
          "output_type": "stream",
          "name": "stdout",
          "text": [
            "Epoch 148, Train Loss: 100.0521, Val Loss: 101.5885, Time: 7.39 sec\n"
          ]
        },
        {
          "output_type": "stream",
          "name": "stderr",
          "text": [
            "Epoch 149/150: 100%|██████████| 375/375 [00:05<00:00, 67.27it/s]\n"
          ]
        },
        {
          "output_type": "stream",
          "name": "stdout",
          "text": [
            "Epoch 149, Train Loss: 100.0442, Val Loss: 101.6637, Time: 6.88 sec\n"
          ]
        },
        {
          "output_type": "stream",
          "name": "stderr",
          "text": [
            "Epoch 150/150: 100%|██████████| 375/375 [00:06<00:00, 61.05it/s]\n"
          ]
        },
        {
          "output_type": "stream",
          "name": "stdout",
          "text": [
            "Epoch 150, Train Loss: 100.0481, Val Loss: 101.4887, Time: 7.33 sec\n",
            "Saved Best Model\n"
          ]
        }
      ],
      "source": [
        "import torch\n",
        "import torch.nn as nn\n",
        "import torch.nn.functional as F\n",
        "import torch.optim as optim\n",
        "from torchvision import datasets, transforms\n",
        "from torch.utils.data import DataLoader, random_split\n",
        "import matplotlib.pyplot as plt\n",
        "import numpy as np\n",
        "import random\n",
        "import time\n",
        "from tqdm import tqdm\n",
        "\n",
        "from torchmetrics.image.fid import FrechetInceptionDistance\n",
        "from torchmetrics.image.lpip import LearnedPerceptualImagePatchSimilarity\n",
        "\n",
        "seed = 42\n",
        "torch.manual_seed(seed)\n",
        "np.random.seed(seed)\n",
        "random.seed(seed)\n",
        "\n",
        "# 參數\n",
        "batch_size = 128\n",
        "epochs = 150\n",
        "lr = 1e-3\n",
        "hidden_dim = 400\n",
        "latent_dim = 20\n",
        "patience = 10\n",
        "\n",
        "# MNIST dataset\n",
        "transform = transforms.ToTensor()\n",
        "full_train_dataset = datasets.MNIST(root=\"./data\", train=True, transform=transform, download=True)\n",
        "test_dataset = datasets.MNIST(root=\"./data\", train=False, transform=transform, download=True)\n",
        "\n",
        "# 拆分 train / valid\n",
        "train_size = int(0.8 * len(full_train_dataset))\n",
        "valid_size = len(full_train_dataset) - train_size\n",
        "train_dataset, valid_dataset = random_split(full_train_dataset, [train_size, valid_size])\n",
        "\n",
        "train_loader = DataLoader(train_dataset, batch_size=batch_size, shuffle=True)\n",
        "valid_loader = DataLoader(valid_dataset, batch_size=batch_size, shuffle=False)\n",
        "test_loader = DataLoader(test_dataset, batch_size=batch_size, shuffle=False)\n",
        "\n",
        "# VAE 定義\n",
        "class VAE(nn.Module):\n",
        "    def __init__(self):\n",
        "        super(VAE, self).__init__()\n",
        "        # Encoder\n",
        "        self.fc1 = nn.Linear(28*28, hidden_dim)\n",
        "        self.fc21 = nn.Linear(hidden_dim, latent_dim)  # μ\n",
        "        self.fc22 = nn.Linear(hidden_dim, latent_dim)  # log σ²\n",
        "        # Decoder\n",
        "        self.fc3 = nn.Linear(latent_dim, hidden_dim)\n",
        "        self.fc4 = nn.Linear(hidden_dim, 28*28)\n",
        "\n",
        "    def encode(self, x):\n",
        "        h1 = F.relu(self.fc1(x))\n",
        "        return self.fc21(h1), self.fc22(h1)\n",
        "\n",
        "    def reparameterize(self, mu, logvar):\n",
        "        std = torch.exp(0.5*logvar)\n",
        "        eps = torch.randn_like(std)\n",
        "        return mu + eps * std\n",
        "\n",
        "    def decode(self, z):\n",
        "        h3 = F.relu(self.fc3(z))\n",
        "        return torch.sigmoid(self.fc4(h3))\n",
        "\n",
        "    def forward(self, x):\n",
        "        mu, logvar = self.encode(x.view(-1, 28*28))\n",
        "        z = self.reparameterize(mu, logvar)\n",
        "        return self.decode(z), mu, logvar\n",
        "\n",
        "# Loss = BCE + KLD\n",
        "def loss_function(recon_x, x, mu, logvar):\n",
        "    BCE = F.binary_cross_entropy(recon_x, x.view(-1, 28*28), reduction='sum')\n",
        "    KLD = -0.5 * torch.sum(1 + logvar - mu.pow(2) - logvar.exp())\n",
        "    return BCE + KLD\n",
        "\n",
        "# 訓練\n",
        "device = torch.device(\"cuda\" if torch.cuda.is_available() else \"cpu\")\n",
        "model = VAE().to(device)\n",
        "optimizer = optim.Adam(model.parameters(), lr=lr)\n",
        "\n",
        "train_losses, valid_losses = [], []\n",
        "best_val_loss = float(\"inf\")\n",
        "early_stop_counter = 0\n",
        "best_model_path = \"vae_best.pth\"\n",
        "\n",
        "total_start = time.time()\n",
        "for epoch in range(1, epochs+1):\n",
        "    start_time = time.time()\n",
        "    # --- Train ---\n",
        "    model.train()\n",
        "    train_loss = 0\n",
        "    for data, _ in tqdm(train_loader, desc=f\"Epoch {epoch}/{epochs}\"):\n",
        "        data = data.to(device)\n",
        "        optimizer.zero_grad()\n",
        "        recon_batch, mu, logvar = model(data)\n",
        "        loss = loss_function(recon_batch, data, mu, logvar)\n",
        "        loss.backward()\n",
        "        train_loss += loss.item()\n",
        "        optimizer.step()\n",
        "    avg_train_loss = train_loss / len(train_loader.dataset)\n",
        "    train_losses.append(avg_train_loss)\n",
        "\n",
        "    # --- Validation ---\n",
        "    model.eval()\n",
        "    valid_loss = 0\n",
        "    with torch.no_grad():\n",
        "        for data, _ in valid_loader:\n",
        "            data = data.to(device)\n",
        "            recon_batch, mu, logvar = model(data)\n",
        "            loss = loss_function(recon_batch, data, mu, logvar)\n",
        "            valid_loss += loss.item()\n",
        "    avg_val_loss = valid_loss / len(valid_loader.dataset)\n",
        "    valid_losses.append(avg_val_loss)\n",
        "\n",
        "    epoch_time = time.time() - start_time\n",
        "    print(f\"Epoch {epoch}, Train Loss: {avg_train_loss:.4f}, Val Loss: {avg_val_loss:.4f}, Time: {epoch_time:.2f} sec\")\n",
        "\n",
        "    # Save best model\n",
        "    if avg_val_loss < best_val_loss:\n",
        "        best_val_loss = avg_val_loss\n",
        "        torch.save(model.state_dict(), best_model_path)\n",
        "        print(\"Saved Best Model\")\n",
        "        early_stop_counter = 0\n",
        "    else:\n",
        "        early_stop_counter += 1\n",
        "        if early_stop_counter >= patience:\n",
        "            print(\"Early stopping triggered\")\n",
        "            break"
      ]
    },
    {
      "cell_type": "code",
      "source": [
        "total_time = time.time() - total_start\n",
        "print(f\"Total Training Time: {total_time:.2f} sec, Avg per epoch: {total_time/epoch:.2f} sec\")\n",
        "\n",
        "# 載入最佳模型\n",
        "model.load_state_dict(torch.load(best_model_path))\n",
        "model.eval()\n",
        "\n",
        "# 1. Loss 曲線\n",
        "plt.plot(train_losses, label=\"Train Loss\")\n",
        "plt.plot(valid_losses, label=\"Validation Loss\")\n",
        "plt.legend()\n",
        "plt.title(\"Training & Validation Loss Curve\")\n",
        "plt.show()\n",
        "\n",
        "# 2. 清晰度\n",
        "from skimage.metrics import structural_similarity as ssim\n",
        "from skimage.metrics import peak_signal_noise_ratio as psnr\n",
        "import numpy as np\n",
        "\n",
        "# 2. 清晰度 (SSIM + PSNR)\n",
        "def evaluate_ssim_psnr(model, dataloader, device):\n",
        "    model.eval()\n",
        "    ssim_scores, psnr_scores = [], []\n",
        "    with torch.no_grad():\n",
        "        for data, _ in dataloader:\n",
        "            data = data.to(device)\n",
        "            recon, _, _ = model(data)\n",
        "\n",
        "            real_imgs = data.view(-1, 28, 28).cpu().numpy()\n",
        "            fake_imgs = recon.view(-1, 28, 28).cpu().numpy()\n",
        "\n",
        "            for i in range(len(real_imgs)):\n",
        "                ssim_scores.append(\n",
        "                    ssim(real_imgs[i], fake_imgs[i], data_range=1.0)\n",
        "                )\n",
        "                psnr_scores.append(\n",
        "                    psnr(real_imgs[i], fake_imgs[i], data_range=1.0)\n",
        "                )\n",
        "\n",
        "    return np.mean(ssim_scores), np.mean(psnr_scores)\n",
        "\n",
        "ssim_score, psnr_score = evaluate_ssim_psnr(model, test_loader, device)\n",
        "print(f\"SSIM (Test set): {ssim_score:.4f}\")\n",
        "print(f\"PSNR (Test set): {psnr_score:.4f}\")\n",
        "\n",
        "# 3. 隨機生成樣本 + 推理時間\n",
        "start_gen = time.time()\n",
        "with torch.no_grad():\n",
        "    z = torch.randn(10, latent_dim).to(device)\n",
        "    sample = model.decode(z).cpu()\n",
        "end_gen = time.time()\n",
        "print(f\"Generated 10 images in {end_gen-start_gen:.4f} sec\")\n",
        "\n",
        "plt.figure(figsize=(10, 2))\n",
        "for i in range(10):\n",
        "    plt.subplot(1, 10, i+1)\n",
        "    plt.imshow(sample[i].view(28, 28), cmap=\"gray\")\n",
        "    plt.axis(\"off\")\n",
        "plt.show()\n",
        "\n",
        "# 4. 可控性\n",
        "with torch.no_grad():\n",
        "    z1 = torch.randn(1, latent_dim).to(device)\n",
        "    z2 = torch.randn(1, latent_dim).to(device)\n",
        "    interpolations = []\n",
        "    for alpha in np.linspace(0, 1, 10):\n",
        "        z = (1 - alpha) * z1 + alpha * z2\n",
        "        interpolations.append(model.decode(z).cpu())\n",
        "plt.figure(figsize=(10, 2))\n",
        "for i, img in enumerate(interpolations):\n",
        "    plt.subplot(1, 10, i+1)\n",
        "    plt.imshow(img.view(28, 28), cmap=\"gray\")\n",
        "    plt.axis(\"off\")\n",
        "plt.suptitle(\"Latent Space Interpolation (VAE)\")\n",
        "plt.show()\n",
        "\n",
        "# 5. 穩定性\n",
        "from torchmetrics.image import MultiScaleStructuralSimilarityIndexMeasure\n",
        "\n",
        "# 3-scale + 小 kernel，能在 28x28 上穩定運作\n",
        "ms_ssim_metric = MultiScaleStructuralSimilarityIndexMeasure(\n",
        "    data_range=1.0,\n",
        "    betas=(0.0448, 0.2856, 0.3001),  # 3 scales\n",
        "    kernel_size=(7, 7)               # 小 kernel，避免尺寸限制\n",
        ").to(device)\n",
        "\n",
        "with torch.no_grad():\n",
        "    # 兩組獨立隨機生成樣本，用來衡量多樣性（越不相似 => 多樣性越高）\n",
        "    z1 = torch.randn(64, latent_dim).to(device)\n",
        "    z2 = torch.randn(64, latent_dim).to(device)\n",
        "    img1 = model.decode(z1).view(-1, 1, 28, 28)  # [N,1,28,28]，值在 [0,1]\n",
        "    img2 = model.decode(z2).view(-1, 1, 28, 28)\n",
        "\n",
        "    ms_ssim_val = ms_ssim_metric(img1, img2).item()\n",
        "\n",
        "# 直觀一點：回報「多樣性」= 1 - MS-SSIM（越高越多樣，越不易 collapse）\n",
        "diversity = 1.0 - ms_ssim_val\n",
        "print(f\"MS-SSIM (similarity): {ms_ssim_val:.4f} | Diversity (1 - MS-SSIM): {diversity:.4f}\")"
      ],
      "metadata": {
        "colab": {
          "base_uri": "https://localhost:8080/",
          "height": 773
        },
        "id": "22u2uDa5Rj7e",
        "outputId": "effe0402-f17b-45c4-a69e-f9f85588e924"
      },
      "execution_count": 7,
      "outputs": [
        {
          "output_type": "stream",
          "name": "stdout",
          "text": [
            "Total Training Time: 1490.97 sec, Avg per epoch: 9.94 sec\n"
          ]
        },
        {
          "output_type": "display_data",
          "data": {
            "text/plain": [
              "<Figure size 640x480 with 1 Axes>"
            ],
            "image/png": "[encoded data removed]"
          },
          "metadata": {}
        },
        {
          "output_type": "stream",
          "name": "stdout",
          "text": [
            "SSIM (Test set): 0.8689\n",
            "PSNR (Test set): 19.8352\n",
            "Generated 10 images in 0.0007 sec\n"
          ]
        },
        {
          "output_type": "display_data",
          "data": {
            "text/plain": [
              "<Figure size 1000x200 with 10 Axes>"
            ],
            "image/png": "[encoded data removed]"
          },
          "metadata": {}
        },
        {
          "output_type": "display_data",
          "data": {
            "text/plain": [
              "<Figure size 1000x200 with 10 Axes>"
            ],
            "image/png": "[encoded data removed]"
          },
          "metadata": {}
        },
        {
          "output_type": "stream",
          "name": "stdout",
          "text": [
            "MS-SSIM (similarity): 0.4060 | Diversity (1 - MS-SSIM): 0.5940\n"
          ]
        }
      ]
    },
    {
      "cell_type": "code",
      "source": [
        "import torch\n",
        "import torch.nn as nn\n",
        "import torch.optim as optim\n",
        "from torchvision import datasets, transforms\n",
        "from torch.utils.data import DataLoader, random_split\n",
        "import matplotlib.pyplot as plt\n",
        "import numpy as np\n",
        "import random\n",
        "import time\n",
        "from tqdm import tqdm\n",
        "\n",
        "# 指標\n",
        "from skimage.metrics import structural_similarity as ssim\n",
        "from skimage.metrics import peak_signal_noise_ratio as psnr\n",
        "from torchmetrics.image import MultiScaleStructuralSimilarityIndexMeasure\n",
        "\n",
        "# 固定隨機種子\n",
        "seed = 42\n",
        "torch.manual_seed(seed)\n",
        "np.random.seed(seed)\n",
        "random.seed(seed)\n",
        "\n",
        "# 參數\n",
        "batch_size = 128\n",
        "epochs = 100\n",
        "lr = 2e-4\n",
        "z_dim = 100\n",
        "patience = 10\n",
        "\n",
        "transform = transforms.Compose([\n",
        "    transforms.ToTensor(),\n",
        "    transforms.Normalize((0.5,), (0.5,))  # [0,1] -> [-1,1]\n",
        "])\n",
        "full_train_dataset = datasets.MNIST(root=\"./data\", train=True, transform=transform, download=True)\n",
        "test_dataset = datasets.MNIST(root=\"./data\", train=False, transform=transform, download=True)\n",
        "\n",
        "# train/valid split\n",
        "train_size = int(0.8 * len(full_train_dataset))\n",
        "valid_size = len(full_train_dataset) - train_size\n",
        "train_dataset, valid_dataset = random_split(full_train_dataset, [train_size, valid_size])\n",
        "\n",
        "train_loader = DataLoader(train_dataset, batch_size=batch_size, shuffle=True, drop_last=False)\n",
        "valid_loader = DataLoader(valid_dataset, batch_size=batch_size, shuffle=False, drop_last=False)\n",
        "test_loader  = DataLoader(test_dataset,  batch_size=batch_size, shuffle=False, drop_last=False)\n",
        "\n",
        "# DCGAN 模型定義\n",
        "nz  = z_dim\n",
        "ngf = 64\n",
        "ndf = 64\n",
        "nc  = 1        # 灰階\n",
        "\n",
        "class DCGAN_G(nn.Module):\n",
        "    def __init__(self, z_dim=nz, nc=nc, ngf=ngf):\n",
        "        super().__init__()\n",
        "        self.net = nn.Sequential(\n",
        "            # z -> 256*7*7\n",
        "            nn.Linear(z_dim, ngf*4*7*7),\n",
        "            nn.BatchNorm1d(ngf*4*7*7),\n",
        "            nn.ReLU(True),\n",
        "            nn.Unflatten(1, (ngf*4, 7, 7)),                # (B,256,7,7)\n",
        "\n",
        "            nn.ConvTranspose2d(ngf*4, ngf*2, 4, 2, 1, bias=False),  # (B,128,14,14)\n",
        "            nn.BatchNorm2d(ngf*2),\n",
        "            nn.ReLU(True),\n",
        "\n",
        "            nn.ConvTranspose2d(ngf*2, ngf, 4, 2, 1, bias=False),    # (B,64,28,28)\n",
        "            nn.BatchNorm2d(ngf),\n",
        "            nn.ReLU(True),\n",
        "\n",
        "            nn.Conv2d(ngf, nc, 3, 1, 1, bias=False),                # (B,1,28,28)\n",
        "            nn.Tanh()  # 輸出 [-1,1]\n",
        "        )\n",
        "    def forward(self, z):\n",
        "        return self.net(z)\n",
        "\n",
        "class DCGAN_D(nn.Module):\n",
        "    def __init__(self, nc=nc, ndf=ndf):\n",
        "        super().__init__()\n",
        "        self.net = nn.Sequential(\n",
        "            # (B,1,28,28) -> (B,64,14,14)\n",
        "            nn.Conv2d(nc, ndf, 4, 2, 1, bias=False),\n",
        "            nn.LeakyReLU(0.2, inplace=True),\n",
        "\n",
        "            # (B,64,14,14) -> (B,128,7,7)\n",
        "            nn.Conv2d(ndf, ndf*2, 4, 2, 1, bias=False),\n",
        "            nn.BatchNorm2d(ndf*2),\n",
        "            nn.LeakyReLU(0.2, inplace=True),\n",
        "\n",
        "            # (B,128,7,7) -> (B,1,1,1)\n",
        "            nn.Conv2d(ndf*2, 1, 7, 1, 0, bias=False),\n",
        "            nn.Sigmoid()\n",
        "        )\n",
        "    def forward(self, x):\n",
        "        return self.net(x).view(-1, 1)\n",
        "\n",
        "# DCGAN 初始化\n",
        "def weights_init(m):\n",
        "    classname = m.__class__.__name__\n",
        "    if classname.find('Conv') != -1 or classname.find('Linear') != -1:\n",
        "        nn.init.normal_(m.weight.data, 0.0, 0.02)\n",
        "    if classname.find('BatchNorm') != -1:\n",
        "        nn.init.normal_(m.weight.data, 1.0, 0.02)\n",
        "        nn.init.constant_(m.bias.data, 0)\n",
        "\n",
        "device = torch.device(\"cuda\" if torch.cuda.is_available() else \"cpu\")\n",
        "gen  = DCGAN_G(nz).to(device)\n",
        "disc = DCGAN_D().to(device)\n",
        "gen.apply(weights_init); disc.apply(weights_init)\n",
        "\n",
        "criterion = nn.BCELoss()\n",
        "opt_g = optim.Adam(gen.parameters(),  lr=lr, betas=(0.5, 0.999))\n",
        "opt_d = optim.Adam(disc.parameters(), lr=lr, betas=(0.5, 0.999))\n",
        "\n",
        "gen_losses, disc_losses, val_losses = [], [], []\n",
        "best_val = float(\"inf\")\n",
        "early = 0\n",
        "best_gen_path = \"gan_gen_best.pth\"\n",
        "\n",
        "# 訓練\n",
        "total_start = time.time()\n",
        "for epoch in range(1, epochs+1):\n",
        "    ep_start = time.time()\n",
        "    gen.train(); disc.train()\n",
        "    g_loss_sum = 0.0\n",
        "    d_loss_sum = 0.0\n",
        "\n",
        "    for real, _ in tqdm(train_loader, desc=f\"Epoch {epoch}/{epochs}\"):\n",
        "        real = real.to(device)\n",
        "        bsz  = real.size(0)\n",
        "        ones  = torch.ones(bsz, 1, device=device)\n",
        "        zeros = torch.zeros(bsz, 1, device=device)\n",
        "\n",
        "        # Train D（一次）\n",
        "        z = torch.randn(bsz, nz, device=device)\n",
        "        fake = gen(z)\n",
        "        d_real = disc(real)\n",
        "        d_fake = disc(fake.detach())\n",
        "        d_loss = 0.5 * (criterion(d_real, ones) + criterion(d_fake, zeros))\n",
        "        opt_d.zero_grad()\n",
        "        d_loss.backward()\n",
        "        opt_d.step()\n",
        "\n",
        "        # Train G（一次）\n",
        "        d_fake_for_g = disc(fake)\n",
        "        g_loss = criterion(d_fake_for_g, ones)\n",
        "        opt_g.zero_grad()\n",
        "        g_loss.backward()\n",
        "        opt_g.step()\n",
        "\n",
        "        g_loss_sum += g_loss.item()\n",
        "        d_loss_sum += d_loss.item()\n",
        "\n",
        "    avg_g = g_loss_sum / len(train_loader)\n",
        "    avg_d = d_loss_sum / len(train_loader)\n",
        "    gen_losses.append(avg_g)\n",
        "    disc_losses.append(avg_d)\n",
        "\n",
        "    # Validation（proxy：讓 D 誤判 fake 為真）\n",
        "    gen.eval(); disc.eval()\n",
        "    v_sum = 0.0\n",
        "    with torch.no_grad():\n",
        "        for real, _ in valid_loader:\n",
        "            bsz = real.size(0)\n",
        "            real = real.to(device)\n",
        "            z = torch.randn(bsz, nz, device=device)\n",
        "            fake = gen(z)\n",
        "            v_out = disc(fake)\n",
        "            v_loss = criterion(v_out, torch.ones_like(v_out))\n",
        "            v_sum += v_loss.item()\n",
        "    v_avg = v_sum / len(valid_loader)\n",
        "    val_losses.append(v_avg)\n",
        "\n",
        "    ep_time = time.time() - ep_start\n",
        "    print(f\"Epoch {epoch} | G_loss: {avg_g:.4f} | D_loss: {avg_d:.4f} | Val: {v_avg:.4f} | Time: {ep_time:.2f}s\")\n",
        "\n",
        "    # 早停 & 儲存最佳生成器（以 proxy Val 最小）\n",
        "    if v_avg < best_val:\n",
        "        best_val = v_avg\n",
        "        torch.save(gen.state_dict(), best_gen_path)\n",
        "        print(\"Saved best Generator\")\n",
        "        early = 0\n",
        "    else:\n",
        "        early += 1\n",
        "        if early >= patience:\n",
        "            print(\"Early stopping triggered\")\n",
        "            break\n",
        "\n",
        "total_time = time.time() - total_start\n",
        "print(f\"Total Training Time: {total_time:.2f}s | Avg/Epoch: {total_time/epoch:.2f}s\")"
      ],
      "metadata": {
        "colab": {
          "base_uri": "https://localhost:8080/"
        },
        "id": "zSkinAvZ6h1Y",
        "outputId": "229da1f0-678a-4da7-8939-1848f36c702f"
      },
      "execution_count": 10,
      "outputs": [
        {
          "output_type": "stream",
          "name": "stderr",
          "text": [
            "Epoch 1/100: 100%|██████████| 375/375 [00:19<00:00, 18.97it/s]\n"
          ]
        },
        {
          "output_type": "stream",
          "name": "stdout",
          "text": [
            "Epoch 1 | G_loss: 1.3085 | D_loss: 0.4608 | Val: 1.3770 | Time: 22.52s\n",
            "Saved best Generator\n"
          ]
        },
        {
          "output_type": "stream",
          "name": "stderr",
          "text": [
            "Epoch 2/100: 100%|██████████| 375/375 [00:17<00:00, 21.30it/s]\n"
          ]
        },
        {
          "output_type": "stream",
          "name": "stdout",
          "text": [
            "Epoch 2 | G_loss: 1.4086 | D_loss: 0.4104 | Val: 1.6040 | Time: 21.80s\n"
          ]
        },
        {
          "output_type": "stream",
          "name": "stderr",
          "text": [
            "Epoch 3/100: 100%|██████████| 375/375 [00:20<00:00, 18.62it/s]\n"
          ]
        },
        {
          "output_type": "stream",
          "name": "stdout",
          "text": [
            "Epoch 3 | G_loss: 1.2390 | D_loss: 0.4968 | Val: 0.5955 | Time: 22.90s\n",
            "Saved best Generator\n"
          ]
        },
        {
          "output_type": "stream",
          "name": "stderr",
          "text": [
            "Epoch 4/100: 100%|██████████| 375/375 [00:18<00:00, 20.10it/s]\n"
          ]
        },
        {
          "output_type": "stream",
          "name": "stdout",
          "text": [
            "Epoch 4 | G_loss: 1.2169 | D_loss: 0.5062 | Val: 0.3819 | Time: 21.60s\n",
            "Saved best Generator\n"
          ]
        },
        {
          "output_type": "stream",
          "name": "stderr",
          "text": [
            "Epoch 5/100: 100%|██████████| 375/375 [00:19<00:00, 19.16it/s]\n"
          ]
        },
        {
          "output_type": "stream",
          "name": "stdout",
          "text": [
            "Epoch 5 | G_loss: 1.1985 | D_loss: 0.5155 | Val: 0.2478 | Time: 22.93s\n",
            "Saved best Generator\n"
          ]
        },
        {
          "output_type": "stream",
          "name": "stderr",
          "text": [
            "Epoch 6/100: 100%|██████████| 375/375 [00:23<00:00, 16.19it/s]\n"
          ]
        },
        {
          "output_type": "stream",
          "name": "stdout",
          "text": [
            "Epoch 6 | G_loss: 1.1786 | D_loss: 0.5348 | Val: 0.9807 | Time: 26.39s\n"
          ]
        },
        {
          "output_type": "stream",
          "name": "stderr",
          "text": [
            "Epoch 7/100: 100%|██████████| 375/375 [00:18<00:00, 20.22it/s]\n"
          ]
        },
        {
          "output_type": "stream",
          "name": "stdout",
          "text": [
            "Epoch 7 | G_loss: 1.1324 | D_loss: 0.5441 | Val: 1.5032 | Time: 21.95s\n"
          ]
        },
        {
          "output_type": "stream",
          "name": "stderr",
          "text": [
            "Epoch 8/100: 100%|██████████| 375/375 [00:17<00:00, 21.69it/s]\n"
          ]
        },
        {
          "output_type": "stream",
          "name": "stdout",
          "text": [
            "Epoch 8 | G_loss: 1.1234 | D_loss: 0.5574 | Val: 1.1075 | Time: 19.98s\n"
          ]
        },
        {
          "output_type": "stream",
          "name": "stderr",
          "text": [
            "Epoch 9/100: 100%|██████████| 375/375 [00:17<00:00, 21.10it/s]\n"
          ]
        },
        {
          "output_type": "stream",
          "name": "stdout",
          "text": [
            "Epoch 9 | G_loss: 1.0970 | D_loss: 0.5680 | Val: 0.7533 | Time: 20.51s\n"
          ]
        },
        {
          "output_type": "stream",
          "name": "stderr",
          "text": [
            "Epoch 10/100: 100%|██████████| 375/375 [00:17<00:00, 21.77it/s]\n"
          ]
        },
        {
          "output_type": "stream",
          "name": "stdout",
          "text": [
            "Epoch 10 | G_loss: 1.0786 | D_loss: 0.5772 | Val: 0.6331 | Time: 20.44s\n"
          ]
        },
        {
          "output_type": "stream",
          "name": "stderr",
          "text": [
            "Epoch 11/100: 100%|██████████| 375/375 [00:17<00:00, 21.74it/s]\n"
          ]
        },
        {
          "output_type": "stream",
          "name": "stdout",
          "text": [
            "Epoch 11 | G_loss: 1.0289 | D_loss: 0.5978 | Val: 0.9118 | Time: 20.07s\n"
          ]
        },
        {
          "output_type": "stream",
          "name": "stderr",
          "text": [
            "Epoch 12/100: 100%|██████████| 375/375 [00:17<00:00, 21.28it/s]\n"
          ]
        },
        {
          "output_type": "stream",
          "name": "stdout",
          "text": [
            "Epoch 12 | G_loss: 1.0298 | D_loss: 0.6012 | Val: 0.2445 | Time: 20.31s\n",
            "Saved best Generator\n"
          ]
        },
        {
          "output_type": "stream",
          "name": "stderr",
          "text": [
            "Epoch 13/100: 100%|██████████| 375/375 [00:17<00:00, 21.79it/s]\n"
          ]
        },
        {
          "output_type": "stream",
          "name": "stdout",
          "text": [
            "Epoch 13 | G_loss: 1.0311 | D_loss: 0.5974 | Val: 0.3183 | Time: 20.23s\n"
          ]
        },
        {
          "output_type": "stream",
          "name": "stderr",
          "text": [
            "Epoch 14/100: 100%|██████████| 375/375 [00:16<00:00, 22.12it/s]\n"
          ]
        },
        {
          "output_type": "stream",
          "name": "stdout",
          "text": [
            "Epoch 14 | G_loss: 1.0354 | D_loss: 0.6004 | Val: 1.7472 | Time: 19.69s\n"
          ]
        },
        {
          "output_type": "stream",
          "name": "stderr",
          "text": [
            "Epoch 15/100: 100%|██████████| 375/375 [00:17<00:00, 21.33it/s]\n"
          ]
        },
        {
          "output_type": "stream",
          "name": "stdout",
          "text": [
            "Epoch 15 | G_loss: 1.0212 | D_loss: 0.6046 | Val: 1.9213 | Time: 20.30s\n"
          ]
        },
        {
          "output_type": "stream",
          "name": "stderr",
          "text": [
            "Epoch 16/100: 100%|██████████| 375/375 [00:17<00:00, 21.53it/s]\n"
          ]
        },
        {
          "output_type": "stream",
          "name": "stdout",
          "text": [
            "Epoch 16 | G_loss: 1.0187 | D_loss: 0.6131 | Val: 1.5258 | Time: 20.34s\n"
          ]
        },
        {
          "output_type": "stream",
          "name": "stderr",
          "text": [
            "Epoch 17/100: 100%|██████████| 375/375 [00:17<00:00, 21.84it/s]\n"
          ]
        },
        {
          "output_type": "stream",
          "name": "stdout",
          "text": [
            "Epoch 17 | G_loss: 0.9967 | D_loss: 0.6096 | Val: 2.3141 | Time: 19.96s\n"
          ]
        },
        {
          "output_type": "stream",
          "name": "stderr",
          "text": [
            "Epoch 18/100: 100%|██████████| 375/375 [00:17<00:00, 21.38it/s]\n"
          ]
        },
        {
          "output_type": "stream",
          "name": "stdout",
          "text": [
            "Epoch 18 | G_loss: 0.9937 | D_loss: 0.6144 | Val: 0.8583 | Time: 20.20s\n"
          ]
        },
        {
          "output_type": "stream",
          "name": "stderr",
          "text": [
            "Epoch 19/100: 100%|██████████| 375/375 [00:17<00:00, 21.74it/s]\n"
          ]
        },
        {
          "output_type": "stream",
          "name": "stdout",
          "text": [
            "Epoch 19 | G_loss: 0.9924 | D_loss: 0.6189 | Val: 0.1643 | Time: 20.13s\n",
            "Saved best Generator\n"
          ]
        },
        {
          "output_type": "stream",
          "name": "stderr",
          "text": [
            "Epoch 20/100: 100%|██████████| 375/375 [00:16<00:00, 22.19it/s]\n"
          ]
        },
        {
          "output_type": "stream",
          "name": "stdout",
          "text": [
            "Epoch 20 | G_loss: 0.9974 | D_loss: 0.6160 | Val: 0.7986 | Time: 19.61s\n"
          ]
        },
        {
          "output_type": "stream",
          "name": "stderr",
          "text": [
            "Epoch 21/100: 100%|██████████| 375/375 [00:17<00:00, 21.60it/s]\n"
          ]
        },
        {
          "output_type": "stream",
          "name": "stdout",
          "text": [
            "Epoch 21 | G_loss: 0.9974 | D_loss: 0.6155 | Val: 0.7109 | Time: 20.07s\n"
          ]
        },
        {
          "output_type": "stream",
          "name": "stderr",
          "text": [
            "Epoch 22/100: 100%|██████████| 375/375 [00:17<00:00, 21.74it/s]\n"
          ]
        },
        {
          "output_type": "stream",
          "name": "stdout",
          "text": [
            "Epoch 22 | G_loss: 0.9832 | D_loss: 0.6212 | Val: 1.4037 | Time: 20.26s\n"
          ]
        },
        {
          "output_type": "stream",
          "name": "stderr",
          "text": [
            "Epoch 23/100: 100%|██████████| 375/375 [00:16<00:00, 22.16it/s]\n"
          ]
        },
        {
          "output_type": "stream",
          "name": "stdout",
          "text": [
            "Epoch 23 | G_loss: 0.9811 | D_loss: 0.6206 | Val: 0.5754 | Time: 19.62s\n"
          ]
        },
        {
          "output_type": "stream",
          "name": "stderr",
          "text": [
            "Epoch 24/100: 100%|██████████| 375/375 [00:17<00:00, 21.65it/s]\n"
          ]
        },
        {
          "output_type": "stream",
          "name": "stdout",
          "text": [
            "Epoch 24 | G_loss: 0.9770 | D_loss: 0.6234 | Val: 1.8979 | Time: 19.99s\n"
          ]
        },
        {
          "output_type": "stream",
          "name": "stderr",
          "text": [
            "Epoch 25/100: 100%|██████████| 375/375 [00:17<00:00, 21.83it/s]\n"
          ]
        },
        {
          "output_type": "stream",
          "name": "stdout",
          "text": [
            "Epoch 25 | G_loss: 0.9801 | D_loss: 0.6230 | Val: 2.9585 | Time: 20.16s\n"
          ]
        },
        {
          "output_type": "stream",
          "name": "stderr",
          "text": [
            "Epoch 26/100: 100%|██████████| 375/375 [00:16<00:00, 22.16it/s]\n"
          ]
        },
        {
          "output_type": "stream",
          "name": "stdout",
          "text": [
            "Epoch 26 | G_loss: 0.9757 | D_loss: 0.6238 | Val: 0.2570 | Time: 19.59s\n"
          ]
        },
        {
          "output_type": "stream",
          "name": "stderr",
          "text": [
            "Epoch 27/100: 100%|██████████| 375/375 [00:17<00:00, 21.21it/s]\n"
          ]
        },
        {
          "output_type": "stream",
          "name": "stdout",
          "text": [
            "Epoch 27 | G_loss: 0.9699 | D_loss: 0.6241 | Val: 0.0282 | Time: 20.43s\n",
            "Saved best Generator\n"
          ]
        },
        {
          "output_type": "stream",
          "name": "stderr",
          "text": [
            "Epoch 28/100: 100%|██████████| 375/375 [00:17<00:00, 21.66it/s]\n"
          ]
        },
        {
          "output_type": "stream",
          "name": "stdout",
          "text": [
            "Epoch 28 | G_loss: 0.9663 | D_loss: 0.6295 | Val: 0.1906 | Time: 20.33s\n"
          ]
        },
        {
          "output_type": "stream",
          "name": "stderr",
          "text": [
            "Epoch 29/100: 100%|██████████| 375/375 [00:17<00:00, 22.05it/s]\n"
          ]
        },
        {
          "output_type": "stream",
          "name": "stdout",
          "text": [
            "Epoch 29 | G_loss: 0.9646 | D_loss: 0.6282 | Val: 1.2794 | Time: 19.69s\n"
          ]
        },
        {
          "output_type": "stream",
          "name": "stderr",
          "text": [
            "Epoch 30/100: 100%|██████████| 375/375 [00:17<00:00, 21.31it/s]\n"
          ]
        },
        {
          "output_type": "stream",
          "name": "stdout",
          "text": [
            "Epoch 30 | G_loss: 0.9625 | D_loss: 0.6281 | Val: 0.7467 | Time: 20.34s\n"
          ]
        },
        {
          "output_type": "stream",
          "name": "stderr",
          "text": [
            "Epoch 31/100: 100%|██████████| 375/375 [00:17<00:00, 21.75it/s]\n"
          ]
        },
        {
          "output_type": "stream",
          "name": "stdout",
          "text": [
            "Epoch 31 | G_loss: 0.9610 | D_loss: 0.6303 | Val: 1.3529 | Time: 20.21s\n"
          ]
        },
        {
          "output_type": "stream",
          "name": "stderr",
          "text": [
            "Epoch 32/100: 100%|██████████| 375/375 [00:16<00:00, 22.14it/s]\n"
          ]
        },
        {
          "output_type": "stream",
          "name": "stdout",
          "text": [
            "Epoch 32 | G_loss: 0.9558 | D_loss: 0.6327 | Val: 1.7180 | Time: 19.55s\n"
          ]
        },
        {
          "output_type": "stream",
          "name": "stderr",
          "text": [
            "Epoch 33/100: 100%|██████████| 375/375 [00:17<00:00, 21.51it/s]\n"
          ]
        },
        {
          "output_type": "stream",
          "name": "stdout",
          "text": [
            "Epoch 33 | G_loss: 0.9427 | D_loss: 0.6369 | Val: 2.0526 | Time: 20.18s\n"
          ]
        },
        {
          "output_type": "stream",
          "name": "stderr",
          "text": [
            "Epoch 34/100: 100%|██████████| 375/375 [00:17<00:00, 21.76it/s]\n"
          ]
        },
        {
          "output_type": "stream",
          "name": "stdout",
          "text": [
            "Epoch 34 | G_loss: 0.9487 | D_loss: 0.6321 | Val: 1.4183 | Time: 20.29s\n"
          ]
        },
        {
          "output_type": "stream",
          "name": "stderr",
          "text": [
            "Epoch 35/100: 100%|██████████| 375/375 [00:16<00:00, 22.10it/s]\n"
          ]
        },
        {
          "output_type": "stream",
          "name": "stdout",
          "text": [
            "Epoch 35 | G_loss: 0.9449 | D_loss: 0.6357 | Val: 0.5551 | Time: 19.62s\n"
          ]
        },
        {
          "output_type": "stream",
          "name": "stderr",
          "text": [
            "Epoch 36/100: 100%|██████████| 375/375 [00:17<00:00, 21.37it/s]\n"
          ]
        },
        {
          "output_type": "stream",
          "name": "stdout",
          "text": [
            "Epoch 36 | G_loss: 0.9495 | D_loss: 0.6335 | Val: 0.3709 | Time: 20.22s\n"
          ]
        },
        {
          "output_type": "stream",
          "name": "stderr",
          "text": [
            "Epoch 37/100: 100%|██████████| 375/375 [00:17<00:00, 21.52it/s]\n"
          ]
        },
        {
          "output_type": "stream",
          "name": "stdout",
          "text": [
            "Epoch 37 | G_loss: 0.9402 | D_loss: 0.6370 | Val: 3.4158 | Time: 20.45s\n",
            "Early stopping triggered\n",
            "Total Training Time: 762.95s | Avg/Epoch: 20.62s\n"
          ]
        }
      ]
    },
    {
      "cell_type": "code",
      "source": [
        "# 載入最佳生成器\n",
        "gen.load_state_dict(torch.load(best_gen_path, map_location=device))\n",
        "gen.eval()\n",
        "\n",
        "# Loss 曲線\n",
        "plt.figure()\n",
        "plt.plot(gen_losses, label=\"Generator\")\n",
        "plt.plot(disc_losses, label=\"Discriminator\")\n",
        "plt.plot(val_losses, label=\"Validation\")\n",
        "plt.legend(); plt.title(\"DCGAN Training / Validation\"); plt.show()\n",
        "\n",
        "# 清晰度\n",
        "def collect_test_images_01(dataloader, limit=None):\n",
        "    xs = []\n",
        "    for x, _ in dataloader:\n",
        "        xs.append((x + 1)/2)  # 反正規化 [0,1]\n",
        "        if limit is not None and sum(t.size(0) for t in xs) >= limit:\n",
        "            break\n",
        "    x = torch.cat(xs, dim=0)\n",
        "    if limit is not None:\n",
        "        x = x[:limit]\n",
        "    return x  # [N,1,28,28]\n",
        "\n",
        "with torch.no_grad():\n",
        "    # 生成樣本\n",
        "    N_fake = 500\n",
        "    z = torch.randn(N_fake, nz, device=device)\n",
        "    fake = gen(z)          # [-1,1]\n",
        "    fake_01 = (fake + 1) / 2  # [0,1]\n",
        "\n",
        "    real_all_01 = collect_test_images_01(test_loader).to(device)  # [N,1,28,28]\n",
        "\n",
        "    # 最近鄰（MSE）對齊\n",
        "    fake_flat = fake_01.view(N_fake, -1)\n",
        "    real_flat = real_all_01.view(real_all_01.size(0), -1)\n",
        "\n",
        "    def chunk_min_mse_indices(A, B, chunk=200):\n",
        "        mins = []\n",
        "        for i in range(0, A.size(0), chunk):\n",
        "            Ai = A[i:i+chunk]     # [c,D]\n",
        "            Ai2 = (Ai**2).sum(dim=1, keepdim=True)\n",
        "            B2  = (B**2).sum(dim=1, keepdim=True).T\n",
        "            AB  = Ai @ B.T\n",
        "            dist2 = Ai2 + B2 - 2*AB\n",
        "            idx = dist2.argmin(dim=1)\n",
        "            mins.append(idx)\n",
        "        return torch.cat(mins, dim=0)\n",
        "\n",
        "    nn_idx = chunk_min_mse_indices(fake_flat, real_flat, chunk=200)  # [N_fake]\n",
        "\n",
        "    # 計算 SSIM/PSNR\n",
        "    ssim_list, psnr_list = [], []\n",
        "    fake_np = fake_01.detach().cpu().numpy()\n",
        "    real_np = real_all_01[nn_idx].detach().cpu().numpy()\n",
        "    for i in range(N_fake):\n",
        "        f = fake_np[i,0]; r = real_np[i,0]\n",
        "        ssim_list.append(ssim(r, f, data_range=1.0))\n",
        "        psnr_list.append(psnr(r, f, data_range=1.0))\n",
        "    print(f\"SSIM (DCGAN, NN-ref): {np.mean(ssim_list):.4f}\")\n",
        "    print(f\"PSNR (DCGAN, NN-ref): {np.mean(psnr_list):.2f} dB\")\n",
        "\n",
        "# 隨機生成 10 張 + 推理時間\n",
        "start_gen = time.time()\n",
        "with torch.no_grad():\n",
        "    z = torch.randn(10, nz, device=device)\n",
        "    samples = gen(z)\n",
        "end_gen = time.time()\n",
        "print(f\"Generated 10 images in {end_gen - start_gen:.4f} sec\")\n",
        "\n",
        "samples_show = (samples + 1)/2\n",
        "plt.figure(figsize=(10,2))\n",
        "for i in range(10):\n",
        "    plt.subplot(1,10,i+1)\n",
        "    plt.imshow(samples_show[i,0].cpu(), cmap=\"gray\")\n",
        "    plt.axis(\"off\")\n",
        "plt.suptitle(\"DCGAN: Random 10 Samples\")\n",
        "plt.show()\n",
        "\n",
        "# 可控性\n",
        "with torch.no_grad():\n",
        "    z1 = torch.randn(1, nz, device=device)\n",
        "    z2 = torch.randn(1, nz, device=device)\n",
        "    inter_imgs = []\n",
        "    for a in np.linspace(0,1,10):\n",
        "        zt = (1-a)*z1 + a*z2\n",
        "        inter_imgs.append(gen(zt))\n",
        "    inter = torch.cat(inter_imgs, dim=0)\n",
        "    inter = (inter + 1)/2\n",
        "plt.figure(figsize=(10,2))\n",
        "for i in range(10):\n",
        "    plt.subplot(1,10,i+1)\n",
        "    plt.imshow(inter[i,0].cpu(), cmap=\"gray\")\n",
        "    plt.axis(\"off\")\n",
        "plt.suptitle(\"Latent Space Interpolation (DCGAN)\")\n",
        "plt.show()\n",
        "\n",
        "# 穩定性\n",
        "ms_ssim_metric = MultiScaleStructuralSimilarityIndexMeasure(\n",
        "    data_range=1.0,\n",
        "    betas=(0.0448, 0.2856, 0.3001),\n",
        "    kernel_size=(7,7)\n",
        ").to(device)\n",
        "\n",
        "with torch.no_grad():\n",
        "    zA = torch.randn(64, nz, device=device)\n",
        "    zB = torch.randn(64, nz, device=device)\n",
        "    imgA = (gen(zA) + 1) / 2\n",
        "    imgB = (gen(zB) + 1) / 2\n",
        "    ms_val = ms_ssim_metric(imgA, imgB).item()\n",
        "\n",
        "diversity = 1.0 - ms_val\n",
        "print(f\"MS-SSIM (similarity): {ms_val:.4f} | Diversity (1 - MS-SSIM): {diversity:.4f}\")"
      ],
      "metadata": {
        "colab": {
          "base_uri": "https://localhost:8080/",
          "height": 819
        },
        "id": "42_Yxx9wJHWV",
        "outputId": "c047d575-ba53-44f2-ddd7-9feff6d123d5"
      },
      "execution_count": 11,
      "outputs": [
        {
          "output_type": "display_data",
          "data": {
            "text/plain": [
              "<Figure size 640x480 with 1 Axes>"
            ],
            "image/png": "[encoded data removed]"
          },
          "metadata": {}
        },
        {
          "output_type": "stream",
          "name": "stdout",
          "text": [
            "SSIM (DCGAN, NN-ref): 0.6804\n",
            "PSNR (DCGAN, NN-ref): 14.42 dB\n",
            "Generated 10 images in 0.0039 sec\n"
          ]
        },
        {
          "output_type": "display_data",
          "data": {
            "text/plain": [
              "<Figure size 1000x200 with 10 Axes>"
            ],
            "image/png": "[encoded data removed]"
          },
          "metadata": {}
        },
        {
          "output_type": "display_data",
          "data": {
            "text/plain": [
              "<Figure size 1000x200 with 10 Axes>"
            ],
            "image/png": "[encoded data removed]"
          },
          "metadata": {}
        },
        {
          "output_type": "stream",
          "name": "stdout",
          "text": [
            "MS-SSIM (similarity): 0.3194 | Diversity (1 - MS-SSIM): 0.6806\n"
          ]
        }
      ]
    },
    {
      "cell_type": "code",
      "source": [
        "import torch\n",
        "import torch.nn as nn\n",
        "import torch.optim as optim\n",
        "import torch.nn.functional as F\n",
        "from torchvision import datasets, transforms\n",
        "from torch.utils.data import DataLoader, random_split\n",
        "import matplotlib.pyplot as plt\n",
        "import numpy as np\n",
        "import random, time\n",
        "from tqdm import tqdm\n",
        "\n",
        "# 指標\n",
        "from skimage.metrics import structural_similarity as ssim\n",
        "from skimage.metrics import peak_signal_noise_ratio as psnr\n",
        "from torchmetrics.image import MultiScaleStructuralSimilarityIndexMeasure\n",
        "\n",
        "# 固定隨機種子\n",
        "seed = 42\n",
        "torch.manual_seed(seed)\n",
        "np.random.seed(seed)\n",
        "random.seed(seed)\n",
        "\n",
        "# 超參數\n",
        "batch_size = 128\n",
        "epochs = 100\n",
        "lr = 1e-3\n",
        "z_dim = 100\n",
        "num_classes = 10\n",
        "patience = 10\n",
        "\n",
        "device = torch.device(\"cuda\" if torch.cuda.is_available() else \"cpu\")\n",
        "\n",
        "# Normalize\n",
        "transform = transforms.Compose([\n",
        "    transforms.ToTensor(),\n",
        "    transforms.Normalize((0.5,), (0.5,))  # [0,1] → [-1,1]\n",
        "])\n",
        "full_train_dataset = datasets.MNIST(root=\"./data\", train=True, transform=transform, download=True)\n",
        "test_dataset    = datasets.MNIST(root=\"./data\", train=False, transform=transform, download=True)\n",
        "\n",
        "# train/valid split\n",
        "train_size = int(0.8 * len(full_train_dataset))\n",
        "valid_size = len(full_train_dataset) - train_size\n",
        "train_dataset, valid_dataset = random_split(full_train_dataset, [train_size, valid_size])\n",
        "\n",
        "train_loader = DataLoader(train_dataset, batch_size=batch_size, shuffle=True,  drop_last=False)\n",
        "valid_loader = DataLoader(valid_dataset, batch_size=batch_size, shuffle=False, drop_last=False)\n",
        "test_loader  = DataLoader(test_dataset,  batch_size=batch_size, shuffle=False, drop_last=False)\n",
        "\n",
        "def one_hot(y, n_cls=10):\n",
        "    return F.one_hot(y, n_cls).float()\n",
        "\n",
        "def label_map(y, H=28, W=28, n_cls=10):\n",
        "    oh = one_hot(y, n_cls)\n",
        "    return oh.view(-1, n_cls, 1, 1).expand(-1, n_cls, H, W)\n",
        "\n",
        "nz, ngf, ndf, nc = z_dim, 64, 64, 1\n",
        "\n",
        "#G : {x, z} → y\n",
        "class CondGenerator(nn.Module):\n",
        "    def __init__(self, z_dim=nz, n_cls=num_classes, nc=1, ngf=64):\n",
        "        super().__init__()\n",
        "        in_dim = z_dim + n_cls\n",
        "        self.net = nn.Sequential(\n",
        "            nn.Linear(in_dim, ngf*4*7*7),\n",
        "            nn.BatchNorm1d(ngf*4*7*7),\n",
        "            nn.ReLU(True),\n",
        "            nn.Unflatten(1, (ngf*4, 7, 7)),\n",
        "\n",
        "            nn.ConvTranspose2d(ngf*4, ngf*2, 4, 2, 1, bias=False),\n",
        "            nn.BatchNorm2d(ngf*2),\n",
        "            nn.ReLU(True),\n",
        "\n",
        "            nn.ConvTranspose2d(ngf*2, ngf, 4, 2, 1, bias=False),\n",
        "            nn.BatchNorm2d(ngf),\n",
        "            nn.ReLU(True),\n",
        "\n",
        "            nn.Conv2d(ngf, nc, 3, 1, 1, bias=False),\n",
        "            nn.Tanh()\n",
        "        )\n",
        "    def forward(self, z, y):\n",
        "        y_oh = one_hot(y, num_classes)\n",
        "        zc = torch.cat([z, y_oh], dim=1)\n",
        "        return self.net(zc)\n",
        "\n",
        "class CondDiscriminator(nn.Module):\n",
        "    def __init__(self, n_cls=num_classes, nc=1, ndf=64):\n",
        "        super().__init__()\n",
        "        in_ch = nc + n_cls\n",
        "        self.net = nn.Sequential(\n",
        "            nn.Conv2d(in_ch, ndf, 4, 2, 1, bias=False),\n",
        "            nn.LeakyReLU(0.2, inplace=True),\n",
        "\n",
        "            nn.Conv2d(ndf, ndf*2, 4, 2, 1, bias=False),\n",
        "            nn.BatchNorm2d(ndf*2),\n",
        "            nn.LeakyReLU(0.2, inplace=True),\n",
        "\n",
        "            nn.Conv2d(ndf*2, 1, 7, 1, 0, bias=False),\n",
        "            nn.Sigmoid()\n",
        "        )\n",
        "    def forward(self, x, y):\n",
        "        y_map = label_map(y, H=28, W=28, n_cls=num_classes)  # [B,10,28,28]\n",
        "        x_in = torch.cat([x, y_map.to(x.dtype)], dim=1)      # [B,11,28,28]\n",
        "        return self.net(x_in).view(-1, 1)\n",
        "\n",
        "# 初始化\n",
        "def weights_init(m):\n",
        "    name = m.__class__.__name__\n",
        "    if 'Conv' in name or 'Linear' in name:\n",
        "        nn.init.normal_(m.weight.data, 0.0, 0.02)\n",
        "    if 'BatchNorm' in name:\n",
        "        nn.init.normal_(m.weight.data, 1.0, 0.02); nn.init.constant_(m.bias.data, 0)\n",
        "\n",
        "G = CondGenerator(nz, num_classes, nc, ngf).to(device).apply(weights_init)\n",
        "D = CondDiscriminator(num_classes, nc, ndf).to(device).apply(weights_init)\n",
        "\n",
        "criterion = nn.BCELoss()\n",
        "opt_g = optim.Adam(G.parameters(), lr=lr, betas=(0.5, 0.999))\n",
        "opt_d = optim.Adam(D.parameters(), lr=lr, betas=(0.5, 0.999))\n",
        "\n",
        "gen_losses, disc_losses, val_losses = [], [], []\n",
        "best_val = float('inf'); early = 0\n",
        "best_gen_path = \"cgan_gen_best.pth\"\n",
        "\n",
        "# 訓練\n",
        "total_start = time.time()\n",
        "for epoch in range(1, epochs+1):\n",
        "    ep_start = time.time()\n",
        "    G.train(); D.train()\n",
        "    g_sum = d_sum = 0.0\n",
        "\n",
        "    for real, y in tqdm(train_loader, desc=f\"Epoch {epoch}/{epochs}\"):\n",
        "        real, y = real.to(device), y.to(device)\n",
        "        bsz = real.size(0)\n",
        "        ones  = torch.ones(bsz, 1, device=device)\n",
        "        zeros = torch.zeros(bsz, 1, device=device)\n",
        "\n",
        "        # Train D\n",
        "        z = torch.randn(bsz, nz, device=device)\n",
        "        fake = G(z, y).detach()\n",
        "        d_real = D(real, y)\n",
        "        d_fake = D(fake, y)\n",
        "        d_loss = 0.5 * (criterion(d_real, ones*0.9) + criterion(d_fake, zeros))  # label smoothing on real\n",
        "        opt_d.zero_grad()\n",
        "        d_loss.backward()\n",
        "        opt_d.step()\n",
        "\n",
        "        # Train G\n",
        "        z = torch.randn(bsz, nz, device=device)\n",
        "        fake = G(z, y)\n",
        "        d_fake_for_g = D(fake, y)\n",
        "        g_loss = criterion(d_fake_for_g, ones)\n",
        "        opt_g.zero_grad()\n",
        "        g_loss.backward()\n",
        "        opt_g.step()\n",
        "\n",
        "        g_sum += g_loss.item(); d_sum += d_loss.item()\n",
        "\n",
        "    avg_g, avg_d = g_sum/len(train_loader), d_sum/len(train_loader)\n",
        "    gen_losses.append(avg_g); disc_losses.append(avg_d)\n",
        "\n",
        "    # 驗證\n",
        "    G.eval()\n",
        "    D.eval()\n",
        "    v_sum = 0.0\n",
        "    with torch.no_grad():\n",
        "        for real, y in valid_loader:\n",
        "            real, y = real.to(device), y.to(device)\n",
        "            z = torch.randn(real.size(0), nz, device=device)\n",
        "            fake = G(z, y)\n",
        "            v_out = D(fake, y)\n",
        "            v_loss = criterion(v_out, torch.ones_like(v_out))\n",
        "            v_sum += v_loss.item()\n",
        "    v_avg = v_sum / len(valid_loader); val_losses.append(v_avg)\n",
        "\n",
        "    ep_time = time.time() - ep_start\n",
        "    print(f\"Epoch {epoch} | G: {avg_g:.4f} | D: {avg_d:.4f} | Val: {v_avg:.4f} | Time: {ep_time:.2f}s\")\n",
        "\n",
        "    if v_avg < best_val:\n",
        "        best_val = v_avg; torch.save(G.state_dict(), best_gen_path)\n",
        "        print(\"Saved best Generator\"); early = 0\n",
        "    else:\n",
        "        early += 1\n",
        "        if early >= patience:\n",
        "            print(\"Early stopping triggered\"); break"
      ],
      "metadata": {
        "colab": {
          "base_uri": "https://localhost:8080/"
        },
        "id": "JG03Cfw-kj9X",
        "outputId": "13f92183-191d-4a3c-e4cc-65d8661b4525"
      },
      "execution_count": 17,
      "outputs": [
        {
          "output_type": "stream",
          "name": "stderr",
          "text": [
            "Epoch 1/100: 100%|██████████| 375/375 [00:21<00:00, 17.07it/s]\n"
          ]
        },
        {
          "output_type": "stream",
          "name": "stdout",
          "text": [
            "Epoch 1 | G: 1.1727 | D: 0.6599 | Val: 0.9631 | Time: 25.11s\n",
            "Saved best Generator\n"
          ]
        },
        {
          "output_type": "stream",
          "name": "stderr",
          "text": [
            "Epoch 2/100: 100%|██████████| 375/375 [00:22<00:00, 16.70it/s]\n"
          ]
        },
        {
          "output_type": "stream",
          "name": "stdout",
          "text": [
            "Epoch 2 | G: 1.0503 | D: 0.6609 | Val: 0.8752 | Time: 25.51s\n",
            "Saved best Generator\n"
          ]
        },
        {
          "output_type": "stream",
          "name": "stderr",
          "text": [
            "Epoch 3/100: 100%|██████████| 375/375 [00:21<00:00, 17.07it/s]\n"
          ]
        },
        {
          "output_type": "stream",
          "name": "stdout",
          "text": [
            "Epoch 3 | G: 0.9296 | D: 0.6834 | Val: 0.8603 | Time: 25.07s\n",
            "Saved best Generator\n"
          ]
        },
        {
          "output_type": "stream",
          "name": "stderr",
          "text": [
            "Epoch 4/100: 100%|██████████| 375/375 [00:21<00:00, 17.19it/s]\n"
          ]
        },
        {
          "output_type": "stream",
          "name": "stdout",
          "text": [
            "Epoch 4 | G: 0.8966 | D: 0.6874 | Val: 0.7928 | Time: 24.95s\n",
            "Saved best Generator\n"
          ]
        },
        {
          "output_type": "stream",
          "name": "stderr",
          "text": [
            "Epoch 5/100: 100%|██████████| 375/375 [00:21<00:00, 17.34it/s]\n"
          ]
        },
        {
          "output_type": "stream",
          "name": "stdout",
          "text": [
            "Epoch 5 | G: 0.8782 | D: 0.6892 | Val: 0.7774 | Time: 24.67s\n",
            "Saved best Generator\n"
          ]
        },
        {
          "output_type": "stream",
          "name": "stderr",
          "text": [
            "Epoch 6/100: 100%|██████████| 375/375 [00:21<00:00, 17.26it/s]\n"
          ]
        },
        {
          "output_type": "stream",
          "name": "stdout",
          "text": [
            "Epoch 6 | G: 0.8614 | D: 0.6916 | Val: 0.8204 | Time: 24.83s\n"
          ]
        },
        {
          "output_type": "stream",
          "name": "stderr",
          "text": [
            "Epoch 7/100: 100%|██████████| 375/375 [00:21<00:00, 17.27it/s]\n"
          ]
        },
        {
          "output_type": "stream",
          "name": "stdout",
          "text": [
            "Epoch 7 | G: 0.8527 | D: 0.6919 | Val: 0.8831 | Time: 24.78s\n"
          ]
        },
        {
          "output_type": "stream",
          "name": "stderr",
          "text": [
            "Epoch 8/100: 100%|██████████| 375/375 [00:21<00:00, 17.31it/s]\n"
          ]
        },
        {
          "output_type": "stream",
          "name": "stdout",
          "text": [
            "Epoch 8 | G: 0.8436 | D: 0.6919 | Val: 0.8255 | Time: 24.65s\n"
          ]
        },
        {
          "output_type": "stream",
          "name": "stderr",
          "text": [
            "Epoch 9/100: 100%|██████████| 375/375 [00:21<00:00, 17.49it/s]\n"
          ]
        },
        {
          "output_type": "stream",
          "name": "stdout",
          "text": [
            "Epoch 9 | G: 0.8348 | D: 0.6911 | Val: 0.7825 | Time: 24.49s\n"
          ]
        },
        {
          "output_type": "stream",
          "name": "stderr",
          "text": [
            "Epoch 10/100: 100%|██████████| 375/375 [00:21<00:00, 17.42it/s]\n"
          ]
        },
        {
          "output_type": "stream",
          "name": "stdout",
          "text": [
            "Epoch 10 | G: 0.8323 | D: 0.6917 | Val: 0.7687 | Time: 24.98s\n",
            "Saved best Generator\n"
          ]
        },
        {
          "output_type": "stream",
          "name": "stderr",
          "text": [
            "Epoch 11/100: 100%|██████████| 375/375 [00:21<00:00, 17.09it/s]\n"
          ]
        },
        {
          "output_type": "stream",
          "name": "stdout",
          "text": [
            "Epoch 11 | G: 0.8269 | D: 0.6910 | Val: 0.8440 | Time: 24.91s\n"
          ]
        },
        {
          "output_type": "stream",
          "name": "stderr",
          "text": [
            "Epoch 12/100: 100%|██████████| 375/375 [00:21<00:00, 17.49it/s]\n"
          ]
        },
        {
          "output_type": "stream",
          "name": "stdout",
          "text": [
            "Epoch 12 | G: 0.8204 | D: 0.6903 | Val: 0.7675 | Time: 24.46s\n",
            "Saved best Generator\n"
          ]
        },
        {
          "output_type": "stream",
          "name": "stderr",
          "text": [
            "Epoch 13/100: 100%|██████████| 375/375 [00:21<00:00, 17.31it/s]\n"
          ]
        },
        {
          "output_type": "stream",
          "name": "stdout",
          "text": [
            "Epoch 13 | G: 0.8161 | D: 0.6902 | Val: 0.8674 | Time: 24.74s\n"
          ]
        },
        {
          "output_type": "stream",
          "name": "stderr",
          "text": [
            "Epoch 14/100: 100%|██████████| 375/375 [00:21<00:00, 17.43it/s]\n"
          ]
        },
        {
          "output_type": "stream",
          "name": "stdout",
          "text": [
            "Epoch 14 | G: 0.8130 | D: 0.6899 | Val: 0.7743 | Time: 24.49s\n"
          ]
        },
        {
          "output_type": "stream",
          "name": "stderr",
          "text": [
            "Epoch 15/100: 100%|██████████| 375/375 [00:21<00:00, 17.08it/s]\n"
          ]
        },
        {
          "output_type": "stream",
          "name": "stdout",
          "text": [
            "Epoch 15 | G: 0.8096 | D: 0.6898 | Val: 0.7852 | Time: 25.13s\n"
          ]
        },
        {
          "output_type": "stream",
          "name": "stderr",
          "text": [
            "Epoch 16/100: 100%|██████████| 375/375 [00:21<00:00, 17.28it/s]\n"
          ]
        },
        {
          "output_type": "stream",
          "name": "stdout",
          "text": [
            "Epoch 16 | G: 0.8091 | D: 0.6895 | Val: 0.7661 | Time: 24.59s\n",
            "Saved best Generator\n"
          ]
        },
        {
          "output_type": "stream",
          "name": "stderr",
          "text": [
            "Epoch 17/100: 100%|██████████| 375/375 [00:21<00:00, 17.77it/s]\n"
          ]
        },
        {
          "output_type": "stream",
          "name": "stdout",
          "text": [
            "Epoch 17 | G: 0.8068 | D: 0.6894 | Val: 0.7725 | Time: 24.08s\n"
          ]
        },
        {
          "output_type": "stream",
          "name": "stderr",
          "text": [
            "Epoch 18/100: 100%|██████████| 375/375 [00:21<00:00, 17.71it/s]\n"
          ]
        },
        {
          "output_type": "stream",
          "name": "stdout",
          "text": [
            "Epoch 18 | G: 0.8056 | D: 0.6898 | Val: 0.7858 | Time: 24.13s\n"
          ]
        },
        {
          "output_type": "stream",
          "name": "stderr",
          "text": [
            "Epoch 19/100: 100%|██████████| 375/375 [00:21<00:00, 17.61it/s]\n"
          ]
        },
        {
          "output_type": "stream",
          "name": "stdout",
          "text": [
            "Epoch 19 | G: 0.8036 | D: 0.6892 | Val: 0.7769 | Time: 24.21s\n"
          ]
        },
        {
          "output_type": "stream",
          "name": "stderr",
          "text": [
            "Epoch 20/100: 100%|██████████| 375/375 [00:21<00:00, 17.73it/s]\n"
          ]
        },
        {
          "output_type": "stream",
          "name": "stdout",
          "text": [
            "Epoch 20 | G: 0.8025 | D: 0.6895 | Val: 0.7891 | Time: 24.09s\n"
          ]
        },
        {
          "output_type": "stream",
          "name": "stderr",
          "text": [
            "Epoch 21/100: 100%|██████████| 375/375 [00:21<00:00, 17.76it/s]\n"
          ]
        },
        {
          "output_type": "stream",
          "name": "stdout",
          "text": [
            "Epoch 21 | G: 0.8016 | D: 0.6890 | Val: 0.8211 | Time: 24.41s\n"
          ]
        },
        {
          "output_type": "stream",
          "name": "stderr",
          "text": [
            "Epoch 22/100: 100%|██████████| 375/375 [00:21<00:00, 17.70it/s]\n"
          ]
        },
        {
          "output_type": "stream",
          "name": "stdout",
          "text": [
            "Epoch 22 | G: 0.8028 | D: 0.6894 | Val: 0.7940 | Time: 24.07s\n"
          ]
        },
        {
          "output_type": "stream",
          "name": "stderr",
          "text": [
            "Epoch 23/100: 100%|██████████| 375/375 [00:21<00:00, 17.60it/s]\n"
          ]
        },
        {
          "output_type": "stream",
          "name": "stdout",
          "text": [
            "Epoch 23 | G: 0.8010 | D: 0.6891 | Val: 0.7959 | Time: 24.18s\n"
          ]
        },
        {
          "output_type": "stream",
          "name": "stderr",
          "text": [
            "Epoch 24/100: 100%|██████████| 375/375 [00:21<00:00, 17.59it/s]\n"
          ]
        },
        {
          "output_type": "stream",
          "name": "stdout",
          "text": [
            "Epoch 24 | G: 0.8003 | D: 0.6890 | Val: 0.8066 | Time: 24.31s\n"
          ]
        },
        {
          "output_type": "stream",
          "name": "stderr",
          "text": [
            "Epoch 25/100: 100%|██████████| 375/375 [00:21<00:00, 17.53it/s]\n"
          ]
        },
        {
          "output_type": "stream",
          "name": "stdout",
          "text": [
            "Epoch 25 | G: 0.8002 | D: 0.6889 | Val: 0.7921 | Time: 24.34s\n"
          ]
        },
        {
          "output_type": "stream",
          "name": "stderr",
          "text": [
            "Epoch 26/100: 100%|██████████| 375/375 [00:21<00:00, 17.74it/s]\n"
          ]
        },
        {
          "output_type": "stream",
          "name": "stdout",
          "text": [
            "Epoch 26 | G: 0.8002 | D: 0.6891 | Val: 0.8005 | Time: 24.08s\n",
            "Early stopping triggered\n"
          ]
        }
      ]
    },
    {
      "cell_type": "code",
      "source": [
        "# 載入最佳\n",
        "G.load_state_dict(torch.load(best_gen_path, map_location=device))\n",
        "G.eval()\n",
        "\n",
        "# 生成 0–9 各 10 張（10×10 圖格）\n",
        "start_gen = time.time()\n",
        "with torch.no_grad():\n",
        "    tiles = []\n",
        "    for d in range(num_classes):\n",
        "        z = torch.randn(10, nz, device=device)\n",
        "        y = torch.full((10,), d, dtype=torch.long, device=device)\n",
        "        g = G(z, y)           # [-1,1]\n",
        "        g01 = (g + 1)/2       # [0,1]\n",
        "        tiles.append(g01.cpu())\n",
        "grid = torch.cat(tiles, dim=0)  # [100,1,28,28]\n",
        "end_gen = time.time()\n",
        "print(f\"Generated 100 conditional images in {end_gen - start_gen:.4f} sec\")\n",
        "\n",
        "plt.figure(figsize=(10,10))\n",
        "for i in range(100):\n",
        "    plt.subplot(10,10,i+1)\n",
        "    plt.imshow(grid[i,0], cmap=\"gray\"); plt.axis(\"off\")\n",
        "plt.suptitle(\"cGAN: digits 0–9 (10 each)\"); plt.show()\n",
        "\n",
        "total_time = time.time() - total_start\n",
        "print(f\"Total Training Time: {total_time:.2f}s | Avg/Epoch: {total_time/epoch:.2f}s\")\n",
        "\n",
        "# Loss 曲線\n",
        "plt.figure()\n",
        "plt.plot(gen_losses, label=\"G\"); plt.plot(disc_losses, label=\"D\"); plt.plot(val_losses, label=\"Val (proxy)\")\n",
        "plt.legend(); plt.title(\"cGAN Training / Validation\"); plt.show()\n",
        "\n",
        "# 清晰度：SSIM + PSNR\n",
        "def collect_test_images_01(dataloader, limit=None):\n",
        "    xs = []\n",
        "    for x, _ in dataloader:\n",
        "        xs.append((x + 1)/2)\n",
        "        if limit is not None and sum(t.size(0) for t in xs) >= limit:\n",
        "            break\n",
        "    x = torch.cat(xs, dim=0)\n",
        "    if limit is not None: x = x[:limit]\n",
        "    return x  # [N,1,28,28]\n",
        "\n",
        "with torch.no_grad():\n",
        "    N_fake = 500\n",
        "    # 隨機標籤生成（均勻抽 0-9）\n",
        "    y_fake = torch.randint(0, num_classes, (N_fake,), device=device)\n",
        "    z = torch.randn(N_fake, nz, device=device)\n",
        "    fake = G(z, y_fake)               # [-1,1]\n",
        "    fake_01 = (fake + 1)/2            # [0,1]\n",
        "\n",
        "    real_all_01 = collect_test_images_01(test_loader).to(device)\n",
        "\n",
        "    fake_flat = fake_01.view(N_fake, -1)\n",
        "    real_flat = real_all_01.view(real_all_01.size(0), -1)\n",
        "\n",
        "    def chunk_min_mse_indices(A, B, chunk=200):\n",
        "        mins = []\n",
        "        for i in range(0, A.size(0), chunk):\n",
        "            Ai = A[i:i+chunk]\n",
        "            Ai2 = (Ai**2).sum(dim=1, keepdim=True)\n",
        "            B2  = (B**2).sum(dim=1, keepdim=True).T\n",
        "            AB  = Ai @ B.T\n",
        "            dist2 = Ai2 + B2 - 2*AB\n",
        "            idx = dist2.argmin(dim=1)\n",
        "            mins.append(idx)\n",
        "        return torch.cat(mins, dim=0)\n",
        "\n",
        "    nn_idx = chunk_min_mse_indices(fake_flat, real_flat, chunk=200)\n",
        "\n",
        "    ssim_list, psnr_list = [], []\n",
        "    fake_np = fake_01.detach().cpu().numpy()\n",
        "    real_np = real_all_01[nn_idx].detach().cpu().numpy()\n",
        "    for i in range(N_fake):\n",
        "        f = fake_np[i,0]; r = real_np[i,0]\n",
        "        ssim_list.append(ssim(r, f, data_range=1.0))\n",
        "        psnr_list.append(psnr(r, f, data_range=1.0))\n",
        "    print(f\"SSIM (cGAN, NN-ref): {np.mean(ssim_list):.4f}\")\n",
        "    print(f\"PSNR (cGAN, NN-ref): {np.mean(psnr_list):.2f} dB\")\n",
        "\n",
        "# 可控性：Latent Space Interpolation\n",
        "with torch.no_grad():\n",
        "    digit = 7\n",
        "    y = torch.full((1,), digit, dtype=torch.long, device=device)\n",
        "    z1 = torch.randn(1, nz, device=device)\n",
        "    z2 = torch.randn(1, nz, device=device)\n",
        "    inter = []\n",
        "    for a in np.linspace(0,1,10):\n",
        "        zt = (1-a)*z1 + a*z2\n",
        "        inter.append(((G(zt, y)+1)/2).cpu())\n",
        "    inter = torch.cat(inter, dim=0)\n",
        "plt.figure(figsize=(10,2))\n",
        "for i in range(10):\n",
        "    plt.subplot(1,10,i+1)\n",
        "    plt.imshow(inter[i,0], cmap=\"gray\"); plt.axis(\"off\")\n",
        "plt.suptitle(\"Latent Interpolation @ label=7 (cGAN)\"); plt.show()\n",
        "\n",
        "# 穩定性：MS-SSIM\n",
        "ms_ssim_metric = MultiScaleStructuralSimilarityIndexMeasure(\n",
        "    data_range=1.0, betas=(0.0448, 0.2856, 0.3001), kernel_size=(7,7)\n",
        ").to(device)\n",
        "with torch.no_grad():\n",
        "    yA = torch.randint(0, num_classes, (64,), device=device)\n",
        "    yB = torch.randint(0, num_classes, (64,), device=device)\n",
        "    zA = torch.randn(64, nz, device=device)\n",
        "    zB = torch.randn(64, nz, device=device)\n",
        "    imgA = (G(zA, yA) + 1)/2\n",
        "    imgB = (G(zB, yB) + 1)/2\n",
        "    ms_val = ms_ssim_metric(imgA, imgB).item()\n",
        "diversity = 1.0 - ms_val\n",
        "print(f\"MS-SSIM (similarity): {ms_val:.4f} | Diversity (1 - MS-SSIM): {diversity:.4f}\")"
      ],
      "metadata": {
        "colab": {
          "base_uri": "https://localhost:8080/",
          "height": 1000
        },
        "id": "jKhg_md1o-3a",
        "outputId": "9a39598b-5f26-472e-953a-888740bf5aee"
      },
      "execution_count": 18,
      "outputs": [
        {
          "output_type": "stream",
          "name": "stdout",
          "text": [
            "Generated 100 conditional images in 0.0167 sec\n"
          ]
        },
        {
          "output_type": "display_data",
          "data": {
            "text/plain": [
              "<Figure size 1000x1000 with 100 Axes>"
            ],
            "image/png": "[encoded data removed]"
          },
          "metadata": {}
        },
        {
          "output_type": "stream",
          "name": "stdout",
          "text": [
            "Total Training Time: 646.45s | Avg/Epoch: 24.86s\n"
          ]
        },
        {
          "output_type": "display_data",
          "data": {
            "text/plain": [
              "<Figure size 640x480 with 1 Axes>"
            ],
            "image/png": "[encoded data removed]"
          },
          "metadata": {}
        },
        {
          "output_type": "stream",
          "name": "stdout",
          "text": [
            "SSIM (cGAN, NN-ref): 0.6917\n",
            "PSNR (cGAN, NN-ref): 15.04 dB\n"
          ]
        },
        {
          "output_type": "display_data",
          "data": {
            "text/plain": [
              "<Figure size 1000x200 with 10 Axes>"
            ],
            "image/png": "[encoded data removed]"
          },
          "metadata": {}
        },
        {
          "output_type": "stream",
          "name": "stdout",
          "text": [
            "MS-SSIM (similarity): 0.2714 | Diversity (1 - MS-SSIM): 0.7286\n"
          ]
        }
      ]
    },
    {
      "cell_type": "code",
      "source": [
        "import torch\n",
        "import torch.nn as nn\n",
        "import torch.optim as optim\n",
        "import torch.nn.functional as F\n",
        "from torchvision import datasets, transforms\n",
        "from torch.utils.data import DataLoader, random_split\n",
        "import matplotlib.pyplot as plt\n",
        "import numpy as np\n",
        "import random, time\n",
        "from tqdm import tqdm\n",
        "\n",
        "# 指標\n",
        "from skimage.metrics import structural_similarity as ssim\n",
        "from skimage.metrics import peak_signal_noise_ratio as psnr\n",
        "from torchmetrics.image import MultiScaleStructuralSimilarityIndexMeasure\n",
        "\n",
        "# 固定隨機種子\n",
        "seed = 42\n",
        "torch.manual_seed(seed); np.random.seed(seed); random.seed(seed)\n",
        "\n",
        "# 參數\n",
        "batch_size = 128\n",
        "epochs = 50\n",
        "patience = 10\n",
        "lr = 2e-4\n",
        "img_size = 28\n",
        "nc = 1\n",
        "T = 300\n",
        "device = torch.device(\"cuda\" if torch.cuda.is_available() else \"cpu\")\n",
        "\n",
        "# Normalize\n",
        "transform = transforms.Compose([\n",
        "    transforms.ToTensor(),\n",
        "    transforms.Normalize((0.5,), (0.5,))  # [-1,1]\n",
        "])\n",
        "full_train_dataset = datasets.MNIST(root=\"./data\", train=True, transform=transform, download=True)\n",
        "test_dataset       = datasets.MNIST(root=\"./data\", train=False, transform=transform, download=True)\n",
        "\n",
        "# train/valid split\n",
        "train_size = int(0.8 * len(full_train_dataset))\n",
        "valid_size = len(full_train_dataset) - train_size\n",
        "train_dataset, valid_dataset = random_split(full_train_dataset, [train_size, valid_size])\n",
        "\n",
        "train_loader = DataLoader(train_dataset, batch_size=batch_size, shuffle=True,  drop_last=True)\n",
        "valid_loader = DataLoader(valid_dataset, batch_size=batch_size, shuffle=False, drop_last=False)\n",
        "test_loader  = DataLoader(test_dataset,  batch_size=batch_size, shuffle=False, drop_last=False)\n",
        "\n",
        "def linear_beta_schedule(timesteps, beta_start=1e-4, beta_end=0.02):\n",
        "    return torch.linspace(beta_start, beta_end, timesteps)\n",
        "\n",
        "betas = linear_beta_schedule(T).to(device)\n",
        "alphas = 1.0 - betas\n",
        "alphas_cumprod = torch.cumprod(alphas, dim=0)\n",
        "alphas_cumprod_prev = F.pad(alphas_cumprod[:-1], (1,0), value=1.0)\n",
        "\n",
        "sqrt_alphas_cumprod = torch.sqrt(alphas_cumprod)\n",
        "sqrt_one_minus_alphas_cumprod = torch.sqrt(1.0 - alphas_cumprod)\n",
        "sqrt_recip_alphas = torch.sqrt(1.0 / alphas)\n",
        "\n",
        "posterior_variance = betas * (1.0 - alphas_cumprod_prev) / (1.0 - alphas_cumprod)\n",
        "\n",
        "def extract(a, t, x_shape):\n",
        "    # [B,1,1,1]\n",
        "    b = t.shape[0]\n",
        "    out = a.gather(-1, t).reshape(b, *((1,) * (len(x_shape)-1)))\n",
        "    return out\n",
        "\n",
        "def q_sample(x0, t, noise=None):\n",
        "    # x_t = sqrt(bar_alpha_t) * x0 + sqrt(1-bar_alpha_t) * noise\n",
        "    if noise is None:\n",
        "        noise = torch.randn_like(x0)\n",
        "    return extract(sqrt_alphas_cumprod, t, x0.shape) * x0 + extract(sqrt_one_minus_alphas_cumprod, t, x0.shape) * noise\n",
        "\n",
        "# 小型 U-Net\n",
        "class SinusoidalPosEmb(nn.Module):\n",
        "    def __init__(self, dim):\n",
        "        super().__init__()\n",
        "        self.dim = dim\n",
        "    def forward(self, t):\n",
        "        device = t.device\n",
        "        half = self.dim // 2\n",
        "        freqs = torch.exp(\n",
        "            torch.linspace(np.log(1.0), np.log(10000.0), steps=half, device=device)\n",
        "        )\n",
        "        args = t[:, None].float() * freqs[None, :]\n",
        "        emb = torch.cat([torch.sin(args), torch.cos(args)], dim=-1)\n",
        "        return emb\n",
        "\n",
        "class ResBlock(nn.Module):\n",
        "    def __init__(self, in_ch, out_ch, t_emb_dim):\n",
        "        super().__init__()\n",
        "        self.mlp = nn.Sequential(nn.SiLU(), nn.Linear(t_emb_dim, out_ch))\n",
        "        self.block1 = nn.Sequential(\n",
        "            nn.Conv2d(in_ch, out_ch, 3, 1, 1), nn.GroupNorm(8, out_ch), nn.SiLU()\n",
        "        )\n",
        "        self.block2 = nn.Sequential(\n",
        "            nn.Conv2d(out_ch, out_ch, 3, 1, 1), nn.GroupNorm(8, out_ch), nn.SiLU()\n",
        "        )\n",
        "        self.res_conv = nn.Conv2d(in_ch, out_ch, 1) if in_ch != out_ch else nn.Identity()\n",
        "    def forward(self, x, t_emb):\n",
        "        h = self.block1(x)\n",
        "        h = h + self.mlp(t_emb)[:, :, None, None]\n",
        "        h = self.block2(h)\n",
        "        return h + self.res_conv(x)\n",
        "\n",
        "class TinyUNet(nn.Module):\n",
        "    def __init__(self, in_ch=1, base_ch=64, t_emb_dim=128):\n",
        "        super().__init__()\n",
        "        self.time_mlp = nn.Sequential(\n",
        "            SinusoidalPosEmb(t_emb_dim), nn.Linear(t_emb_dim, t_emb_dim*4), nn.SiLU(),\n",
        "            nn.Linear(t_emb_dim*4, t_emb_dim)\n",
        "        )\n",
        "        # down\n",
        "        self.conv_in = nn.Conv2d(in_ch, base_ch, 3, 1, 1)\n",
        "        self.rb1 = ResBlock(base_ch, base_ch, t_emb_dim)\n",
        "        self.down1 = nn.Conv2d(base_ch, base_ch*2, 4, 2, 1)  # 28->14\n",
        "        self.rb2 = ResBlock(base_ch*2, base_ch*2, t_emb_dim)\n",
        "        self.down2 = nn.Conv2d(base_ch*2, base_ch*4, 4, 2, 1)  # 14->7\n",
        "        self.rb3 = ResBlock(base_ch*4, base_ch*4, t_emb_dim)\n",
        "        # bottleneck\n",
        "        self.rb_mid = ResBlock(base_ch*4, base_ch*4, t_emb_dim)\n",
        "        # up\n",
        "        self.up1 = nn.ConvTranspose2d(base_ch*4, base_ch*2, 4, 2, 1)  # 7->14\n",
        "        self.rb4 = ResBlock(base_ch*4, base_ch*2, t_emb_dim)\n",
        "        self.up2 = nn.ConvTranspose2d(base_ch*2, base_ch, 4, 2, 1)    # 14->28\n",
        "        self.rb5 = ResBlock(base_ch*2, base_ch, t_emb_dim)\n",
        "        self.conv_out = nn.Conv2d(base_ch, in_ch, 3, 1, 1)\n",
        "    def forward(self, x, t):\n",
        "        t_emb = self.time_mlp(t)\n",
        "        h1 = self.conv_in(x); h1 = self.rb1(h1, t_emb)\n",
        "        h2 = self.down1(h1);  h2 = self.rb2(h2, t_emb)\n",
        "        h3 = self.down2(h2);  h3 = self.rb3(h3, t_emb)\n",
        "        h  = self.rb_mid(h3, t_emb)\n",
        "        h  = self.up1(h);     h  = torch.cat([h, h2], dim=1); h = self.rb4(h, t_emb)\n",
        "        h  = self.up2(h);     h  = torch.cat([h, h1], dim=1); h = self.rb5(h, t_emb)\n",
        "        out = self.conv_out(h)\n",
        "        return out  # 預測噪音\n",
        "\n",
        "model = TinyUNet(in_ch=1, base_ch=64, t_emb_dim=128).to(device)\n",
        "optimizer = optim.Adam(model.parameters(), lr=lr)\n",
        "\n",
        "# 訓練 / 驗證\n",
        "def diffusion_loss_batch(x0):\n",
        "    b = x0.size(0)\n",
        "    t = torch.randint(0, T, (b,), device=device).long()\n",
        "    noise = torch.randn_like(x0)\n",
        "    xt = q_sample(x0, t, noise)\n",
        "    pred_noise = model(xt, t)\n",
        "    loss = F.mse_loss(pred_noise, noise)\n",
        "    return loss\n",
        "\n",
        "best_val = float('inf'); early = 0\n",
        "best_model_path = \"diffusion_best.pth\"\n",
        "train_losses, valid_losses = [], []\n",
        "\n",
        "total_start = time.time()\n",
        "for epoch in range(1, epochs+1):\n",
        "    ep_start = time.time()\n",
        "    model.train()\n",
        "    train_loss_sum = 0.0\n",
        "    for x, _ in tqdm(train_loader, desc=f\"Epoch {epoch}/{epochs}\"):\n",
        "        x = x.to(device)  # [-1,1]\n",
        "        loss = diffusion_loss_batch(x)\n",
        "        optimizer.zero_grad(); loss.backward(); optimizer.step()\n",
        "        train_loss_sum += loss.item()\n",
        "    avg_train = train_loss_sum / len(train_loader); train_losses.append(avg_train)\n",
        "\n",
        "    # validation\n",
        "    model.eval(); val_sum = 0.0\n",
        "    with torch.no_grad():\n",
        "        for x, _ in valid_loader:\n",
        "            x = x.to(device)\n",
        "            val_sum += diffusion_loss_batch(x).item()\n",
        "    avg_val = val_sum / len(valid_loader); valid_losses.append(avg_val)\n",
        "\n",
        "    ep_time = time.time() - ep_start\n",
        "    print(f\"Epoch {epoch} | Train: {avg_train:.4f} | Val: {avg_val:.4f} | Time: {ep_time:.2f}s\")\n",
        "\n",
        "    if avg_val < best_val:\n",
        "        best_val = avg_val; torch.save(model.state_dict(), best_model_path)\n",
        "        print(\"Saved best model\"); early = 0\n",
        "    else:\n",
        "        early += 1\n",
        "        if early >= patience:\n",
        "            print(\"Early stopping triggered\"); break"
      ],
      "metadata": {
        "colab": {
          "base_uri": "https://localhost:8080/",
          "height": 1000
        },
        "id": "1iHJCzPTpbNA",
        "outputId": "6df1b316-93db-4843-d69a-c60548718f2f"
      },
      "execution_count": 19,
      "outputs": [
        {
          "output_type": "stream",
          "name": "stderr",
          "text": [
            "Epoch 1/50: 100%|██████████| 375/375 [00:52<00:00,  7.11it/s]\n"
          ]
        },
        {
          "output_type": "stream",
          "name": "stdout",
          "text": [
            "Epoch 1 | Train: 0.1189 | Val: 0.0650 | Time: 58.43s\n",
            "Saved best model\n"
          ]
        },
        {
          "output_type": "stream",
          "name": "stderr",
          "text": [
            "Epoch 2/50: 100%|██████████| 375/375 [00:49<00:00,  7.54it/s]\n"
          ]
        },
        {
          "output_type": "stream",
          "name": "stdout",
          "text": [
            "Epoch 2 | Train: 0.0609 | Val: 0.0552 | Time: 54.94s\n",
            "Saved best model\n"
          ]
        },
        {
          "output_type": "stream",
          "name": "stderr",
          "text": [
            "Epoch 3/50: 100%|██████████| 375/375 [00:49<00:00,  7.65it/s]\n"
          ]
        },
        {
          "output_type": "stream",
          "name": "stdout",
          "text": [
            "Epoch 3 | Train: 0.0531 | Val: 0.0520 | Time: 54.68s\n",
            "Saved best model\n"
          ]
        },
        {
          "output_type": "stream",
          "name": "stderr",
          "text": [
            "Epoch 4/50: 100%|██████████| 375/375 [00:47<00:00,  7.82it/s]\n"
          ]
        },
        {
          "output_type": "stream",
          "name": "stdout",
          "text": [
            "Epoch 4 | Train: 0.0498 | Val: 0.0488 | Time: 53.23s\n",
            "Saved best model\n"
          ]
        },
        {
          "output_type": "stream",
          "name": "stderr",
          "text": [
            "Epoch 5/50: 100%|██████████| 375/375 [00:47<00:00,  7.84it/s]\n"
          ]
        },
        {
          "output_type": "stream",
          "name": "stdout",
          "text": [
            "Epoch 5 | Train: 0.0477 | Val: 0.0469 | Time: 53.41s\n",
            "Saved best model\n"
          ]
        },
        {
          "output_type": "stream",
          "name": "stderr",
          "text": [
            "Epoch 6/50: 100%|██████████| 375/375 [00:47<00:00,  7.83it/s]\n"
          ]
        },
        {
          "output_type": "stream",
          "name": "stdout",
          "text": [
            "Epoch 6 | Train: 0.0469 | Val: 0.0463 | Time: 53.26s\n",
            "Saved best model\n"
          ]
        },
        {
          "output_type": "stream",
          "name": "stderr",
          "text": [
            "Epoch 7/50: 100%|██████████| 375/375 [00:47<00:00,  7.83it/s]\n"
          ]
        },
        {
          "output_type": "stream",
          "name": "stdout",
          "text": [
            "Epoch 7 | Train: 0.0454 | Val: 0.0441 | Time: 53.22s\n",
            "Saved best model\n"
          ]
        },
        {
          "output_type": "stream",
          "name": "stderr",
          "text": [
            "Epoch 8/50: 100%|██████████| 375/375 [00:47<00:00,  7.84it/s]\n"
          ]
        },
        {
          "output_type": "stream",
          "name": "stdout",
          "text": [
            "Epoch 8 | Train: 0.0445 | Val: 0.0436 | Time: 53.37s\n",
            "Saved best model\n"
          ]
        },
        {
          "output_type": "stream",
          "name": "stderr",
          "text": [
            "Epoch 9/50: 100%|██████████| 375/375 [00:47<00:00,  7.91it/s]\n"
          ]
        },
        {
          "output_type": "stream",
          "name": "stdout",
          "text": [
            "Epoch 9 | Train: 0.0442 | Val: 0.0434 | Time: 52.52s\n",
            "Saved best model\n"
          ]
        },
        {
          "output_type": "stream",
          "name": "stderr",
          "text": [
            "Epoch 10/50: 100%|██████████| 375/375 [00:46<00:00,  8.02it/s]\n"
          ]
        },
        {
          "output_type": "stream",
          "name": "stdout",
          "text": [
            "Epoch 10 | Train: 0.0434 | Val: 0.0422 | Time: 51.85s\n",
            "Saved best model\n"
          ]
        },
        {
          "output_type": "stream",
          "name": "stderr",
          "text": [
            "Epoch 11/50: 100%|██████████| 375/375 [00:46<00:00,  8.06it/s]\n"
          ]
        },
        {
          "output_type": "stream",
          "name": "stdout",
          "text": [
            "Epoch 11 | Train: 0.0431 | Val: 0.0425 | Time: 51.89s\n"
          ]
        },
        {
          "output_type": "stream",
          "name": "stderr",
          "text": [
            "Epoch 12/50: 100%|██████████| 375/375 [00:46<00:00,  8.04it/s]\n"
          ]
        },
        {
          "output_type": "stream",
          "name": "stdout",
          "text": [
            "Epoch 12 | Train: 0.0429 | Val: 0.0415 | Time: 51.68s\n",
            "Saved best model\n"
          ]
        },
        {
          "output_type": "stream",
          "name": "stderr",
          "text": [
            "Epoch 13/50: 100%|██████████| 375/375 [00:46<00:00,  8.04it/s]\n"
          ]
        },
        {
          "output_type": "stream",
          "name": "stdout",
          "text": [
            "Epoch 13 | Train: 0.0419 | Val: 0.0425 | Time: 51.73s\n"
          ]
        },
        {
          "output_type": "stream",
          "name": "stderr",
          "text": [
            "Epoch 14/50: 100%|██████████| 375/375 [00:46<00:00,  8.05it/s]\n"
          ]
        },
        {
          "output_type": "stream",
          "name": "stdout",
          "text": [
            "Epoch 14 | Train: 0.0417 | Val: 0.0414 | Time: 51.98s\n",
            "Saved best model\n"
          ]
        },
        {
          "output_type": "stream",
          "name": "stderr",
          "text": [
            "Epoch 15/50: 100%|██████████| 375/375 [00:46<00:00,  8.03it/s]\n"
          ]
        },
        {
          "output_type": "stream",
          "name": "stdout",
          "text": [
            "Epoch 15 | Train: 0.0421 | Val: 0.0414 | Time: 51.88s\n"
          ]
        },
        {
          "output_type": "stream",
          "name": "stderr",
          "text": [
            "Epoch 16/50: 100%|██████████| 375/375 [00:46<00:00,  8.02it/s]\n"
          ]
        },
        {
          "output_type": "stream",
          "name": "stdout",
          "text": [
            "Epoch 16 | Train: 0.0413 | Val: 0.0409 | Time: 51.81s\n",
            "Saved best model\n"
          ]
        },
        {
          "output_type": "stream",
          "name": "stderr",
          "text": [
            "Epoch 17/50: 100%|██████████| 375/375 [00:46<00:00,  8.01it/s]\n"
          ]
        },
        {
          "output_type": "stream",
          "name": "stdout",
          "text": [
            "Epoch 17 | Train: 0.0410 | Val: 0.0415 | Time: 52.31s\n"
          ]
        },
        {
          "output_type": "stream",
          "name": "stderr",
          "text": [
            "Epoch 18/50: 100%|██████████| 375/375 [00:46<00:00,  8.04it/s]\n"
          ]
        },
        {
          "output_type": "stream",
          "name": "stdout",
          "text": [
            "Epoch 18 | Train: 0.0408 | Val: 0.0402 | Time: 51.88s\n",
            "Saved best model\n"
          ]
        },
        {
          "output_type": "stream",
          "name": "stderr",
          "text": [
            "Epoch 19/50: 100%|██████████| 375/375 [00:46<00:00,  8.02it/s]\n"
          ]
        },
        {
          "output_type": "stream",
          "name": "stdout",
          "text": [
            "Epoch 19 | Train: 0.0405 | Val: 0.0402 | Time: 51.82s\n"
          ]
        },
        {
          "output_type": "stream",
          "name": "stderr",
          "text": [
            "Epoch 20/50: 100%|██████████| 375/375 [00:46<00:00,  8.01it/s]\n"
          ]
        },
        {
          "output_type": "stream",
          "name": "stdout",
          "text": [
            "Epoch 20 | Train: 0.0404 | Val: 0.0407 | Time: 52.27s\n"
          ]
        },
        {
          "output_type": "stream",
          "name": "stderr",
          "text": [
            "Epoch 21/50: 100%|██████████| 375/375 [00:46<00:00,  7.99it/s]\n"
          ]
        },
        {
          "output_type": "stream",
          "name": "stdout",
          "text": [
            "Epoch 21 | Train: 0.0402 | Val: 0.0406 | Time: 52.37s\n"
          ]
        },
        {
          "output_type": "stream",
          "name": "stderr",
          "text": [
            "Epoch 22/50: 100%|██████████| 375/375 [00:47<00:00,  7.96it/s]\n"
          ]
        },
        {
          "output_type": "stream",
          "name": "stdout",
          "text": [
            "Epoch 22 | Train: 0.0399 | Val: 0.0396 | Time: 52.20s\n",
            "Saved best model\n"
          ]
        },
        {
          "output_type": "stream",
          "name": "stderr",
          "text": [
            "Epoch 23/50: 100%|██████████| 375/375 [00:47<00:00,  7.98it/s]\n"
          ]
        },
        {
          "output_type": "stream",
          "name": "stdout",
          "text": [
            "Epoch 23 | Train: 0.0399 | Val: 0.0399 | Time: 52.38s\n"
          ]
        },
        {
          "output_type": "stream",
          "name": "stderr",
          "text": [
            "Epoch 24/50: 100%|██████████| 375/375 [00:46<00:00,  8.05it/s]\n"
          ]
        },
        {
          "output_type": "stream",
          "name": "stdout",
          "text": [
            "Epoch 24 | Train: 0.0397 | Val: 0.0396 | Time: 51.95s\n",
            "Saved best model\n"
          ]
        },
        {
          "output_type": "stream",
          "name": "stderr",
          "text": [
            "Epoch 25/50: 100%|██████████| 375/375 [00:46<00:00,  8.02it/s]\n"
          ]
        },
        {
          "output_type": "stream",
          "name": "stdout",
          "text": [
            "Epoch 25 | Train: 0.0401 | Val: 0.0392 | Time: 51.79s\n",
            "Saved best model\n"
          ]
        },
        {
          "output_type": "stream",
          "name": "stderr",
          "text": [
            "Epoch 26/50: 100%|██████████| 375/375 [00:46<00:00,  8.01it/s]\n"
          ]
        },
        {
          "output_type": "stream",
          "name": "stdout",
          "text": [
            "Epoch 26 | Train: 0.0395 | Val: 0.0394 | Time: 52.11s\n"
          ]
        },
        {
          "output_type": "stream",
          "name": "stderr",
          "text": [
            "Epoch 27/50: 100%|██████████| 375/375 [00:46<00:00,  8.04it/s]\n"
          ]
        },
        {
          "output_type": "stream",
          "name": "stdout",
          "text": [
            "Epoch 27 | Train: 0.0396 | Val: 0.0407 | Time: 52.08s\n"
          ]
        },
        {
          "output_type": "stream",
          "name": "stderr",
          "text": [
            "Epoch 28/50: 100%|██████████| 375/375 [00:46<00:00,  8.02it/s]\n"
          ]
        },
        {
          "output_type": "stream",
          "name": "stdout",
          "text": [
            "Epoch 28 | Train: 0.0394 | Val: 0.0396 | Time: 51.81s\n"
          ]
        },
        {
          "output_type": "stream",
          "name": "stderr",
          "text": [
            "Epoch 29/50: 100%|██████████| 375/375 [00:46<00:00,  8.04it/s]\n"
          ]
        },
        {
          "output_type": "stream",
          "name": "stdout",
          "text": [
            "Epoch 29 | Train: 0.0396 | Val: 0.0392 | Time: 51.82s\n",
            "Saved best model\n"
          ]
        },
        {
          "output_type": "stream",
          "name": "stderr",
          "text": [
            "Epoch 30/50: 100%|██████████| 375/375 [00:46<00:00,  8.04it/s]\n"
          ]
        },
        {
          "output_type": "stream",
          "name": "stdout",
          "text": [
            "Epoch 30 | Train: 0.0392 | Val: 0.0391 | Time: 52.06s\n",
            "Saved best model\n"
          ]
        },
        {
          "output_type": "stream",
          "name": "stderr",
          "text": [
            "Epoch 31/50: 100%|██████████| 375/375 [00:46<00:00,  8.04it/s]\n"
          ]
        },
        {
          "output_type": "stream",
          "name": "stdout",
          "text": [
            "Epoch 31 | Train: 0.0392 | Val: 0.0391 | Time: 51.72s\n",
            "Saved best model\n"
          ]
        },
        {
          "output_type": "stream",
          "name": "stderr",
          "text": [
            "Epoch 32/50: 100%|██████████| 375/375 [00:46<00:00,  8.04it/s]\n"
          ]
        },
        {
          "output_type": "stream",
          "name": "stdout",
          "text": [
            "Epoch 32 | Train: 0.0391 | Val: 0.0390 | Time: 51.80s\n",
            "Saved best model\n"
          ]
        },
        {
          "output_type": "stream",
          "name": "stderr",
          "text": [
            "Epoch 33/50: 100%|██████████| 375/375 [00:46<00:00,  8.04it/s]\n"
          ]
        },
        {
          "output_type": "stream",
          "name": "stdout",
          "text": [
            "Epoch 33 | Train: 0.0388 | Val: 0.0387 | Time: 51.97s\n",
            "Saved best model\n"
          ]
        },
        {
          "output_type": "stream",
          "name": "stderr",
          "text": [
            "Epoch 34/50: 100%|██████████| 375/375 [00:46<00:00,  8.00it/s]\n"
          ]
        },
        {
          "output_type": "stream",
          "name": "stdout",
          "text": [
            "Epoch 34 | Train: 0.0385 | Val: 0.0388 | Time: 51.94s\n"
          ]
        },
        {
          "output_type": "stream",
          "name": "stderr",
          "text": [
            "Epoch 35/50: 100%|██████████| 375/375 [00:46<00:00,  8.05it/s]\n"
          ]
        },
        {
          "output_type": "stream",
          "name": "stdout",
          "text": [
            "Epoch 35 | Train: 0.0389 | Val: 0.0386 | Time: 51.64s\n",
            "Saved best model\n"
          ]
        },
        {
          "output_type": "stream",
          "name": "stderr",
          "text": [
            "Epoch 36/50: 100%|██████████| 375/375 [00:46<00:00,  8.03it/s]\n"
          ]
        },
        {
          "output_type": "stream",
          "name": "stdout",
          "text": [
            "Epoch 36 | Train: 0.0388 | Val: 0.0387 | Time: 52.06s\n"
          ]
        },
        {
          "output_type": "stream",
          "name": "stderr",
          "text": [
            "Epoch 37/50: 100%|██████████| 375/375 [00:46<00:00,  8.03it/s]\n"
          ]
        },
        {
          "output_type": "stream",
          "name": "stdout",
          "text": [
            "Epoch 37 | Train: 0.0385 | Val: 0.0395 | Time: 51.74s\n"
          ]
        },
        {
          "output_type": "stream",
          "name": "stderr",
          "text": [
            "Epoch 38/50: 100%|██████████| 375/375 [00:47<00:00,  7.82it/s]\n"
          ]
        },
        {
          "output_type": "stream",
          "name": "stdout",
          "text": [
            "Epoch 38 | Train: 0.0384 | Val: 0.0389 | Time: 53.30s\n"
          ]
        },
        {
          "output_type": "stream",
          "name": "stderr",
          "text": [
            "Epoch 39/50: 100%|██████████| 375/375 [00:49<00:00,  7.56it/s]\n"
          ]
        },
        {
          "output_type": "stream",
          "name": "stdout",
          "text": [
            "Epoch 39 | Train: 0.0384 | Val: 0.0390 | Time: 55.81s\n"
          ]
        },
        {
          "output_type": "stream",
          "name": "stderr",
          "text": [
            "Epoch 40/50: 100%|██████████| 375/375 [00:50<00:00,  7.45it/s]\n"
          ]
        },
        {
          "output_type": "stream",
          "name": "stdout",
          "text": [
            "Epoch 40 | Train: 0.0386 | Val: 0.0386 | Time: 55.99s\n",
            "Saved best model\n"
          ]
        },
        {
          "output_type": "stream",
          "name": "stderr",
          "text": [
            "Epoch 41/50:  16%|█▋        | 61/375 [00:08<00:43,  7.27it/s]\n"
          ]
        },
        {
          "output_type": "error",
          "ename": "KeyboardInterrupt",
          "evalue": "",
          "traceback": [
            "\u001b[0;31m---------------------------------------------------------------------------\u001b[0m",
            "\u001b[0;31mKeyboardInterrupt\u001b[0m                         Traceback (most recent call last)",
            "\u001b[0;32m/tmp/ipython-input-677108180.py\u001b[0m in \u001b[0;36m<cell line: 0>\u001b[0;34m()\u001b[0m\n\u001b[1;32m    163\u001b[0m         \u001b[0mloss\u001b[0m \u001b[0;34m=\u001b[0m \u001b[0mdiffusion_loss_batch\u001b[0m\u001b[0;34m(\u001b[0m\u001b[0mx\u001b[0m\u001b[0;34m)\u001b[0m\u001b[0;34m\u001b[0m\u001b[0;34m\u001b[0m\u001b[0m\n\u001b[1;32m    164\u001b[0m         \u001b[0moptimizer\u001b[0m\u001b[0;34m.\u001b[0m\u001b[0mzero_grad\u001b[0m\u001b[0;34m(\u001b[0m\u001b[0;34m)\u001b[0m\u001b[0;34m;\u001b[0m \u001b[0mloss\u001b[0m\u001b[0;34m.\u001b[0m\u001b[0mbackward\u001b[0m\u001b[0;34m(\u001b[0m\u001b[0;34m)\u001b[0m\u001b[0;34m;\u001b[0m \u001b[0moptimizer\u001b[0m\u001b[0;34m.\u001b[0m\u001b[0mstep\u001b[0m\u001b[0;34m(\u001b[0m\u001b[0;34m)\u001b[0m\u001b[0;34m\u001b[0m\u001b[0;34m\u001b[0m\u001b[0m\n\u001b[0;32m--> 165\u001b[0;31m         \u001b[0mtrain_loss_sum\u001b[0m \u001b[0;34m+=\u001b[0m \u001b[0mloss\u001b[0m\u001b[0;34m.\u001b[0m\u001b[0mitem\u001b[0m\u001b[0;34m(\u001b[0m\u001b[0;34m)\u001b[0m\u001b[0;34m\u001b[0m\u001b[0;34m\u001b[0m\u001b[0m\n\u001b[0m\u001b[1;32m    166\u001b[0m     \u001b[0mavg_train\u001b[0m \u001b[0;34m=\u001b[0m \u001b[0mtrain_loss_sum\u001b[0m \u001b[0;34m/\u001b[0m \u001b[0mlen\u001b[0m\u001b[0;34m(\u001b[0m\u001b[0mtrain_loader\u001b[0m\u001b[0;34m)\u001b[0m\u001b[0;34m;\u001b[0m \u001b[0mtrain_losses\u001b[0m\u001b[0;34m.\u001b[0m\u001b[0mappend\u001b[0m\u001b[0;34m(\u001b[0m\u001b[0mavg_train\u001b[0m\u001b[0;34m)\u001b[0m\u001b[0;34m\u001b[0m\u001b[0;34m\u001b[0m\u001b[0m\n\u001b[1;32m    167\u001b[0m \u001b[0;34m\u001b[0m\u001b[0m\n",
            "\u001b[0;31mKeyboardInterrupt\u001b[0m: "
          ]
        }
      ]
    },
    {
      "cell_type": "code",
      "source": [
        "total_time = time.time() - total_start\n",
        "print(f\"Total Training Time: {total_time:.2f}s | Avg/Epoch: {total_time/epoch:.2f}s\")\n",
        "\n",
        "# 載入最佳模型\n",
        "model.load_state_dict(torch.load(best_model_path, map_location=device))\n",
        "model.eval()\n",
        "\n",
        "# Loss 曲線\n",
        "plt.figure()\n",
        "plt.plot(train_losses, label=\"Train\"); plt.plot(valid_losses, label=\"Validation\")\n",
        "plt.legend(); plt.title(\"DDPM Training / Validation Loss\"); plt.show()\n",
        "\n",
        "# 取樣（Reverse：p_sample 與 sampling loop）\n",
        "@torch.no_grad()\n",
        "def p_sample(x, t, t_index):\n",
        "    bet = extract(betas, t, x.shape)\n",
        "    sqrt_one_minus_ac = extract(sqrt_one_minus_alphas_cumprod, t, x.shape)\n",
        "    sqrt_rec_a = extract(sqrt_recip_alphas, t, x.shape)\n",
        "    # 估計 epsilon\n",
        "    eps_theta = model(x, t)\n",
        "    # 均值\n",
        "    mean = sqrt_rec_a * (x - bet / sqrt_one_minus_ac * eps_theta)\n",
        "    if t_index == 0:\n",
        "        return mean\n",
        "    var = extract(posterior_variance, t, x.shape)\n",
        "    noise = torch.randn_like(x)\n",
        "    return mean + torch.sqrt(var) * noise\n",
        "\n",
        "@torch.no_grad()\n",
        "def p_sample_loop(n_samples, img_size=28):\n",
        "    x = torch.randn(n_samples, 1, img_size, img_size, device=device)\n",
        "    for i in reversed(range(0, T)):\n",
        "        t = torch.full((n_samples,), i, device=device, dtype=torch.long)\n",
        "        x = p_sample(x, t, i)\n",
        "    return x  # [-1,1]\n",
        "\n",
        "# 隨機生成 10 張\n",
        "start_gen = time.time()\n",
        "samples = p_sample_loop(10, img_size)\n",
        "end_gen = time.time()\n",
        "print(f\"Generated 10 images in {end_gen - start_gen:.4f} sec\")\n",
        "samples_show = (samples + 1)/2  # -> [0,1]\n",
        "plt.figure(figsize=(10,2))\n",
        "for i in range(10):\n",
        "    plt.subplot(1,10,i+1); plt.imshow(samples_show[i,0].cpu(), cmap=\"gray\"); plt.axis(\"off\")\n",
        "plt.suptitle(\"DDPM: Random 10 Samples\"); plt.show()\n",
        "\n",
        "# 清晰度\n",
        "def collect_test_images_01(dataloader, limit=None):\n",
        "    xs = []\n",
        "    for x, _ in dataloader:\n",
        "        xs.append((x + 1)/2)  # [-1,1] -> [0,1]\n",
        "        if limit is not None and sum(t.size(0) for t in xs) >= limit:\n",
        "            break\n",
        "    x = torch.cat(xs, dim=0)\n",
        "    if limit is not None: x = x[:limit]\n",
        "    return x  # [N,1,28,28]\n",
        "\n",
        "with torch.no_grad():\n",
        "    N_fake = 500\n",
        "    fake = p_sample_loop(N_fake, img_size)     # [-1,1]\n",
        "    fake_01 = (fake + 1)/2                     # [0,1]\n",
        "    real_all_01 = collect_test_images_01(test_loader).to(device)\n",
        "\n",
        "    fake_flat = fake_01.view(N_fake, -1)\n",
        "    real_flat = real_all_01.view(real_all_01.size(0), -1)\n",
        "\n",
        "    def chunk_min_mse_indices(A, B, chunk=200):\n",
        "        mins = []\n",
        "        for i in range(0, A.size(0), chunk):\n",
        "            Ai = A[i:i+chunk]\n",
        "            Ai2 = (Ai**2).sum(dim=1, keepdim=True); B2 = (B**2).sum(dim=1, keepdim=True).T\n",
        "            AB = Ai @ B.T; dist2 = Ai2 + B2 - 2*AB\n",
        "            idx = dist2.argmin(dim=1); mins.append(idx)\n",
        "        return torch.cat(mins, dim=0)\n",
        "\n",
        "    nn_idx = chunk_min_mse_indices(fake_flat, real_flat, chunk=200)\n",
        "\n",
        "    ssim_list, psnr_list = [], []\n",
        "    fake_np = fake_01.detach().cpu().numpy()\n",
        "    real_np = real_all_01[nn_idx].detach().cpu().numpy()\n",
        "    for i in range(N_fake):\n",
        "        f = fake_np[i,0]; r = real_np[i,0]\n",
        "        ssim_list.append(ssim(r, f, data_range=1.0))\n",
        "        psnr_list.append(psnr(r, f, data_range=1.0))\n",
        "    print(f\"SSIM (DDPM, NN-ref): {np.mean(ssim_list):.4f}\")\n",
        "    print(f\"PSNR (DDPM, NN-ref): {np.mean(psnr_list):.2f} dB\")\n",
        "\n",
        "# 穩定性\n",
        "ms_ssim_metric = MultiScaleStructuralSimilarityIndexMeasure(\n",
        "    data_range=1.0, betas=(0.0448, 0.2856, 0.3001), kernel_size=(7,7)\n",
        ").to(device)\n",
        "with torch.no_grad():\n",
        "    A = (p_sample_loop(64, img_size) + 1)/2  # [0,1]\n",
        "    B = (p_sample_loop(64, img_size) + 1)/2\n",
        "    ms_val = ms_ssim_metric(A, B).item()\n",
        "diversity = 1.0 - ms_val\n",
        "print(f\"MS-SSIM (similarity): {ms_val:.4f} | Diversity (1 - MS-SSIM): {diversity:.4f}\")\n",
        "\n",
        "# 可控性\n",
        "with torch.no_grad():\n",
        "    n_steps = 10\n",
        "    z1 = torch.randn(1, 1, img_size, img_size, device=device)\n",
        "    z2 = torch.randn(1, 1, img_size, img_size, device=device)\n",
        "    outs = []\n",
        "    for a in np.linspace(0,1,n_steps):\n",
        "        zt = (1-a)*z1 + a*z2\n",
        "        x = zt.clone()\n",
        "        # run reverse starting from interpolated noise\n",
        "        for i in reversed(range(0, T)):\n",
        "            t = torch.full((1,), i, device=device, dtype=torch.long)\n",
        "            x = p_sample(x, t, i)\n",
        "        outs.append(((x+1)/2).cpu())\n",
        "    outs = torch.cat(outs, dim=0)\n",
        "plt.figure(figsize=(10,2))\n",
        "for i in range(n_steps):\n",
        "    plt.subplot(1,10,i+1); plt.imshow(outs[i,0], cmap=\"gray\"); plt.axis(\"off\")\n",
        "plt.suptitle(\"DDPM: Noise Interpolation\"); plt.show()"
      ],
      "metadata": {
        "colab": {
          "base_uri": "https://localhost:8080/",
          "height": 837
        },
        "id": "v5ycq5Lhtwa0",
        "outputId": "f5738d35-193a-4b6c-9832-61dfbcdc9ea3"
      },
      "execution_count": 20,
      "outputs": [
        {
          "output_type": "stream",
          "name": "stdout",
          "text": [
            "Total Training Time: 2138.05s | Avg/Epoch: 52.15s\n"
          ]
        },
        {
          "output_type": "display_data",
          "data": {
            "text/plain": [
              "<Figure size 640x480 with 1 Axes>"
            ],
            "image/png": "[encoded data removed]"
          },
          "metadata": {}
        },
        {
          "output_type": "stream",
          "name": "stdout",
          "text": [
            "Generated 10 images in 1.2917 sec\n"
          ]
        },
        {
          "output_type": "display_data",
          "data": {
            "text/plain": [
              "<Figure size 1000x200 with 10 Axes>"
            ],
            "image/png": "[encoded data removed]"
          },
          "metadata": {}
        },
        {
          "output_type": "stream",
          "name": "stdout",
          "text": [
            "SSIM (DDPM, NN-ref): 0.6793\n",
            "PSNR (DDPM, NN-ref): 14.34 dB\n",
            "MS-SSIM (similarity): 0.1827 | Diversity (1 - MS-SSIM): 0.8173\n"
          ]
        },
        {
          "output_type": "display_data",
          "data": {
            "text/plain": [
              "<Figure size 1000x200 with 10 Axes>"
            ],
            "image/png": "[encoded data removed]"
          },
          "metadata": {}
        }
      ]
    }
  ]
}